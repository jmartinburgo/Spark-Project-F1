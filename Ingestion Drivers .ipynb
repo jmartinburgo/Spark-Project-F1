{
 "cells": [
  {
   "cell_type": "code",
   "execution_count": 1,
   "id": "f8035203",
   "metadata": {},
   "outputs": [],
   "source": [
    "import findspark\n",
    "findspark.init()\n",
    "\n",
    "import pyspark # only run after findspark.init()\n",
    "from pyspark.sql import SparkSession\n",
    "spark = SparkSession.builder.getOrCreate()"
   ]
  },
  {
   "cell_type": "code",
   "execution_count": 16,
   "id": "dda04030",
   "metadata": {},
   "outputs": [],
   "source": [
    "from pyspark.sql.types import StructType, StructField,IntegerType, StringType, DateType"
   ]
  },
  {
   "cell_type": "code",
   "execution_count": 17,
   "id": "c9ef7940",
   "metadata": {},
   "outputs": [],
   "source": [
    "name_schema = StructType(fields=[StructField(\"forename\",StringType(),True),\n",
    "                                 StructField(\"surname\",StringType(),True)                      \n",
    "                            \n",
    "                                ])"
   ]
  },
  {
   "cell_type": "code",
   "execution_count": 18,
   "id": "dd14264d",
   "metadata": {},
   "outputs": [],
   "source": [
    "drivers_schema = StructType(fields=[StructField(\"driverId\",IntegerType(),False),\n",
    "                                 StructField(\"driverRef\",StringType(),True),   \n",
    "                                StructField(\"number\",IntegerType(),True), \n",
    "                                    StructField(\"code\",StringType(),True), \n",
    "                                    StructField(\"name\",name_schema), \n",
    "                                    StructField(\"dob\",DateType(),True), \n",
    "                                    StructField(\"nationality\",StringType(),True), \n",
    "                                    StructField(\"url\",StringType(),True), \n",
    "                            \n",
    "                                ])"
   ]
  },
  {
   "cell_type": "code",
   "execution_count": 20,
   "id": "a222963f",
   "metadata": {},
   "outputs": [],
   "source": [
    "drivers_df = spark.read\\\n",
    ".schema(drivers_schema)\\\n",
    ".json('C:/Users/ACER/Documents/Burgo Juan/Udemi - Azure Databricks/drivers.json')"
   ]
  },
  {
   "cell_type": "code",
   "execution_count": 21,
   "id": "e0746b7b",
   "metadata": {},
   "outputs": [
    {
     "name": "stdout",
     "output_type": "stream",
     "text": [
      "+--------+----------+------+----+--------------------+----------+-----------+--------------------+\n",
      "|driverId| driverRef|number|code|                name|       dob|nationality|                 url|\n",
      "+--------+----------+------+----+--------------------+----------+-----------+--------------------+\n",
      "|       1|  hamilton|    44| HAM|   {Lewis, Hamilton}|1985-01-07|    British|http://en.wikiped...|\n",
      "|       2|  heidfeld|  null| HEI|    {Nick, Heidfeld}|1977-05-10|     German|http://en.wikiped...|\n",
      "|       3|   rosberg|     6| ROS|     {Nico, Rosberg}|1985-06-27|     German|http://en.wikiped...|\n",
      "|       4|    alonso|    14| ALO|  {Fernando, Alonso}|1981-07-29|    Spanish|http://en.wikiped...|\n",
      "|       5|kovalainen|  null| KOV|{Heikki, Kovalainen}|1981-10-19|    Finnish|http://en.wikiped...|\n",
      "|       6|  nakajima|  null| NAK|  {Kazuki, Nakajima}|1985-01-11|   Japanese|http://en.wikiped...|\n",
      "|       7|  bourdais|  null| BOU|{Sébastien, Bourd...|1979-02-28|     French|http://en.wikiped...|\n",
      "|       8| raikkonen|     7| RAI|   {Kimi, Räikkönen}|1979-10-17|    Finnish|http://en.wikiped...|\n",
      "|       9|    kubica|    88| KUB|    {Robert, Kubica}|1984-12-07|     Polish|http://en.wikiped...|\n",
      "|      10|     glock|  null| GLO|       {Timo, Glock}|1982-03-18|     German|http://en.wikiped...|\n",
      "|      11|      sato|  null| SAT|      {Takuma, Sato}|1977-01-28|   Japanese|http://en.wikiped...|\n",
      "|      12| piquet_jr|  null| PIQ|{Nelson, Piquet Jr.}|1985-07-25|  Brazilian|http://en.wikiped...|\n",
      "|      13|     massa|    19| MAS|     {Felipe, Massa}|1981-04-25|  Brazilian|http://en.wikiped...|\n",
      "|      14| coulthard|  null| COU|  {David, Coulthard}|1971-03-27|    British|http://en.wikiped...|\n",
      "|      15|    trulli|  null| TRU|     {Jarno, Trulli}|1974-07-13|    Italian|http://en.wikiped...|\n",
      "|      16|     sutil|    99| SUT|     {Adrian, Sutil}|1983-01-11|     German|http://en.wikiped...|\n",
      "|      17|    webber|  null| WEB|      {Mark, Webber}|1976-08-27| Australian|http://en.wikiped...|\n",
      "|      18|    button|    22| BUT|    {Jenson, Button}|1980-01-19|    British|http://en.wikiped...|\n",
      "|      19|  davidson|  null| DAV| {Anthony, Davidson}|1979-04-18|    British|http://en.wikiped...|\n",
      "|      20|    vettel|     5| VET| {Sebastian, Vettel}|1987-07-03|     German|http://en.wikiped...|\n",
      "+--------+----------+------+----+--------------------+----------+-----------+--------------------+\n",
      "only showing top 20 rows\n",
      "\n"
     ]
    }
   ],
   "source": [
    "drivers_df.show()"
   ]
  },
  {
   "cell_type": "markdown",
   "id": "e6d626c7",
   "metadata": {},
   "source": [
    "### Rename Columns and add nex columns"
   ]
  },
  {
   "cell_type": "code",
   "execution_count": 26,
   "id": "4a9f2d2c",
   "metadata": {},
   "outputs": [],
   "source": [
    "from pyspark.sql.functions import col, concat, current_timestamp,lit"
   ]
  },
  {
   "cell_type": "code",
   "execution_count": 27,
   "id": "2da73373",
   "metadata": {},
   "outputs": [],
   "source": [
    "drivers_with_columns_df= drivers_df.withColumnRenamed(\"driverId\",\"driver_id\")\\\n",
    "                                    .withColumnRenamed(\"driverRef\",\"driver_ref\")\\\n",
    "                                    .withColumn(\"ingestion_date\",current_timestamp())\\\n",
    "                                    .withColumn(\"name\",concat(col(\"name.forename\"),lit(\" \"),col(\"name.surname\")))"
   ]
  },
  {
   "cell_type": "code",
   "execution_count": 28,
   "id": "0587dae6",
   "metadata": {},
   "outputs": [
    {
     "name": "stdout",
     "output_type": "stream",
     "text": [
      "+---------+----------+------+----+------------------+----------+-----------+--------------------+--------------------+\n",
      "|driver_id|driver_ref|number|code|              name|       dob|nationality|                 url|      ingestion_date|\n",
      "+---------+----------+------+----+------------------+----------+-----------+--------------------+--------------------+\n",
      "|        1|  hamilton|    44| HAM|    Lewis Hamilton|1985-01-07|    British|http://en.wikiped...|2022-09-06 14:01:...|\n",
      "|        2|  heidfeld|  null| HEI|     Nick Heidfeld|1977-05-10|     German|http://en.wikiped...|2022-09-06 14:01:...|\n",
      "|        3|   rosberg|     6| ROS|      Nico Rosberg|1985-06-27|     German|http://en.wikiped...|2022-09-06 14:01:...|\n",
      "|        4|    alonso|    14| ALO|   Fernando Alonso|1981-07-29|    Spanish|http://en.wikiped...|2022-09-06 14:01:...|\n",
      "|        5|kovalainen|  null| KOV| Heikki Kovalainen|1981-10-19|    Finnish|http://en.wikiped...|2022-09-06 14:01:...|\n",
      "|        6|  nakajima|  null| NAK|   Kazuki Nakajima|1985-01-11|   Japanese|http://en.wikiped...|2022-09-06 14:01:...|\n",
      "|        7|  bourdais|  null| BOU|Sébastien Bourdais|1979-02-28|     French|http://en.wikiped...|2022-09-06 14:01:...|\n",
      "|        8| raikkonen|     7| RAI|    Kimi Räikkönen|1979-10-17|    Finnish|http://en.wikiped...|2022-09-06 14:01:...|\n",
      "|        9|    kubica|    88| KUB|     Robert Kubica|1984-12-07|     Polish|http://en.wikiped...|2022-09-06 14:01:...|\n",
      "|       10|     glock|  null| GLO|        Timo Glock|1982-03-18|     German|http://en.wikiped...|2022-09-06 14:01:...|\n",
      "|       11|      sato|  null| SAT|       Takuma Sato|1977-01-28|   Japanese|http://en.wikiped...|2022-09-06 14:01:...|\n",
      "|       12| piquet_jr|  null| PIQ| Nelson Piquet Jr.|1985-07-25|  Brazilian|http://en.wikiped...|2022-09-06 14:01:...|\n",
      "|       13|     massa|    19| MAS|      Felipe Massa|1981-04-25|  Brazilian|http://en.wikiped...|2022-09-06 14:01:...|\n",
      "|       14| coulthard|  null| COU|   David Coulthard|1971-03-27|    British|http://en.wikiped...|2022-09-06 14:01:...|\n",
      "|       15|    trulli|  null| TRU|      Jarno Trulli|1974-07-13|    Italian|http://en.wikiped...|2022-09-06 14:01:...|\n",
      "|       16|     sutil|    99| SUT|      Adrian Sutil|1983-01-11|     German|http://en.wikiped...|2022-09-06 14:01:...|\n",
      "|       17|    webber|  null| WEB|       Mark Webber|1976-08-27| Australian|http://en.wikiped...|2022-09-06 14:01:...|\n",
      "|       18|    button|    22| BUT|     Jenson Button|1980-01-19|    British|http://en.wikiped...|2022-09-06 14:01:...|\n",
      "|       19|  davidson|  null| DAV|  Anthony Davidson|1979-04-18|    British|http://en.wikiped...|2022-09-06 14:01:...|\n",
      "|       20|    vettel|     5| VET|  Sebastian Vettel|1987-07-03|     German|http://en.wikiped...|2022-09-06 14:01:...|\n",
      "+---------+----------+------+----+------------------+----------+-----------+--------------------+--------------------+\n",
      "only showing top 20 rows\n",
      "\n"
     ]
    }
   ],
   "source": [
    "drivers_with_columns_df.show()"
   ]
  },
  {
   "cell_type": "code",
   "execution_count": 31,
   "id": "1b096b5a",
   "metadata": {},
   "outputs": [
    {
     "name": "stdout",
     "output_type": "stream",
     "text": [
      "+---------+----------+------+----+------------------+----------+-----------+--------------------+\n",
      "|driver_id|driver_ref|number|code|              name|       dob|nationality|      ingestion_date|\n",
      "+---------+----------+------+----+------------------+----------+-----------+--------------------+\n",
      "|        1|  hamilton|    44| HAM|    Lewis Hamilton|1985-01-07|    British|2022-09-06 14:08:...|\n",
      "|        2|  heidfeld|  null| HEI|     Nick Heidfeld|1977-05-10|     German|2022-09-06 14:08:...|\n",
      "|        3|   rosberg|     6| ROS|      Nico Rosberg|1985-06-27|     German|2022-09-06 14:08:...|\n",
      "|        4|    alonso|    14| ALO|   Fernando Alonso|1981-07-29|    Spanish|2022-09-06 14:08:...|\n",
      "|        5|kovalainen|  null| KOV| Heikki Kovalainen|1981-10-19|    Finnish|2022-09-06 14:08:...|\n",
      "|        6|  nakajima|  null| NAK|   Kazuki Nakajima|1985-01-11|   Japanese|2022-09-06 14:08:...|\n",
      "|        7|  bourdais|  null| BOU|Sébastien Bourdais|1979-02-28|     French|2022-09-06 14:08:...|\n",
      "|        8| raikkonen|     7| RAI|    Kimi Räikkönen|1979-10-17|    Finnish|2022-09-06 14:08:...|\n",
      "|        9|    kubica|    88| KUB|     Robert Kubica|1984-12-07|     Polish|2022-09-06 14:08:...|\n",
      "|       10|     glock|  null| GLO|        Timo Glock|1982-03-18|     German|2022-09-06 14:08:...|\n",
      "|       11|      sato|  null| SAT|       Takuma Sato|1977-01-28|   Japanese|2022-09-06 14:08:...|\n",
      "|       12| piquet_jr|  null| PIQ| Nelson Piquet Jr.|1985-07-25|  Brazilian|2022-09-06 14:08:...|\n",
      "|       13|     massa|    19| MAS|      Felipe Massa|1981-04-25|  Brazilian|2022-09-06 14:08:...|\n",
      "|       14| coulthard|  null| COU|   David Coulthard|1971-03-27|    British|2022-09-06 14:08:...|\n",
      "|       15|    trulli|  null| TRU|      Jarno Trulli|1974-07-13|    Italian|2022-09-06 14:08:...|\n",
      "|       16|     sutil|    99| SUT|      Adrian Sutil|1983-01-11|     German|2022-09-06 14:08:...|\n",
      "|       17|    webber|  null| WEB|       Mark Webber|1976-08-27| Australian|2022-09-06 14:08:...|\n",
      "|       18|    button|    22| BUT|     Jenson Button|1980-01-19|    British|2022-09-06 14:08:...|\n",
      "|       19|  davidson|  null| DAV|  Anthony Davidson|1979-04-18|    British|2022-09-06 14:08:...|\n",
      "|       20|    vettel|     5| VET|  Sebastian Vettel|1987-07-03|     German|2022-09-06 14:08:...|\n",
      "+---------+----------+------+----+------------------+----------+-----------+--------------------+\n",
      "only showing top 20 rows\n",
      "\n"
     ]
    }
   ],
   "source": [
    "drivers_final_df= drivers_with_columns_df.drop(col(\"url\"))\n",
    "drivers_final_df.show()"
   ]
  },
  {
   "cell_type": "markdown",
   "id": "1c0eb216",
   "metadata": {},
   "source": [
    "### Write to output to processed container in parque format"
   ]
  },
  {
   "cell_type": "code",
   "execution_count": 33,
   "id": "54a34525",
   "metadata": {},
   "outputs": [],
   "source": [
    "drivers_final_df.write.mode(\"overwrite\").parquet('C:/Users/ACER/Documents/Burgo Juan/Udemi - Azure Databricks/drivers')"
   ]
  },
  {
   "cell_type": "code",
   "execution_count": 34,
   "id": "a29a1e9d",
   "metadata": {},
   "outputs": [],
   "source": [
    "df= spark.read.parquet('C:/Users/ACER/Documents/Burgo Juan/Udemi - Azure Databricks/drivers')"
   ]
  },
  {
   "cell_type": "code",
   "execution_count": 35,
   "id": "087210c5",
   "metadata": {},
   "outputs": [
    {
     "name": "stdout",
     "output_type": "stream",
     "text": [
      "+---------+----------+------+----+------------------+----------+-----------+--------------------+\n",
      "|driver_id|driver_ref|number|code|              name|       dob|nationality|      ingestion_date|\n",
      "+---------+----------+------+----+------------------+----------+-----------+--------------------+\n",
      "|        1|  hamilton|    44| HAM|    Lewis Hamilton|1985-01-07|    British|2022-09-06 14:10:...|\n",
      "|        2|  heidfeld|  null| HEI|     Nick Heidfeld|1977-05-10|     German|2022-09-06 14:10:...|\n",
      "|        3|   rosberg|     6| ROS|      Nico Rosberg|1985-06-27|     German|2022-09-06 14:10:...|\n",
      "|        4|    alonso|    14| ALO|   Fernando Alonso|1981-07-29|    Spanish|2022-09-06 14:10:...|\n",
      "|        5|kovalainen|  null| KOV| Heikki Kovalainen|1981-10-19|    Finnish|2022-09-06 14:10:...|\n",
      "|        6|  nakajima|  null| NAK|   Kazuki Nakajima|1985-01-11|   Japanese|2022-09-06 14:10:...|\n",
      "|        7|  bourdais|  null| BOU|Sébastien Bourdais|1979-02-28|     French|2022-09-06 14:10:...|\n",
      "|        8| raikkonen|     7| RAI|    Kimi Räikkönen|1979-10-17|    Finnish|2022-09-06 14:10:...|\n",
      "|        9|    kubica|    88| KUB|     Robert Kubica|1984-12-07|     Polish|2022-09-06 14:10:...|\n",
      "|       10|     glock|  null| GLO|        Timo Glock|1982-03-18|     German|2022-09-06 14:10:...|\n",
      "|       11|      sato|  null| SAT|       Takuma Sato|1977-01-28|   Japanese|2022-09-06 14:10:...|\n",
      "|       12| piquet_jr|  null| PIQ| Nelson Piquet Jr.|1985-07-25|  Brazilian|2022-09-06 14:10:...|\n",
      "|       13|     massa|    19| MAS|      Felipe Massa|1981-04-25|  Brazilian|2022-09-06 14:10:...|\n",
      "|       14| coulthard|  null| COU|   David Coulthard|1971-03-27|    British|2022-09-06 14:10:...|\n",
      "|       15|    trulli|  null| TRU|      Jarno Trulli|1974-07-13|    Italian|2022-09-06 14:10:...|\n",
      "|       16|     sutil|    99| SUT|      Adrian Sutil|1983-01-11|     German|2022-09-06 14:10:...|\n",
      "|       17|    webber|  null| WEB|       Mark Webber|1976-08-27| Australian|2022-09-06 14:10:...|\n",
      "|       18|    button|    22| BUT|     Jenson Button|1980-01-19|    British|2022-09-06 14:10:...|\n",
      "|       19|  davidson|  null| DAV|  Anthony Davidson|1979-04-18|    British|2022-09-06 14:10:...|\n",
      "|       20|    vettel|     5| VET|  Sebastian Vettel|1987-07-03|     German|2022-09-06 14:10:...|\n",
      "+---------+----------+------+----+------------------+----------+-----------+--------------------+\n",
      "only showing top 20 rows\n",
      "\n"
     ]
    }
   ],
   "source": [
    "df.show()"
   ]
  },
  {
   "cell_type": "code",
   "execution_count": null,
   "id": "c4f2e92e",
   "metadata": {},
   "outputs": [],
   "source": []
  }
 ],
 "metadata": {
  "kernelspec": {
   "display_name": "Python 3",
   "language": "python",
   "name": "python3"
  },
  "language_info": {
   "codemirror_mode": {
    "name": "ipython",
    "version": 3
   },
   "file_extension": ".py",
   "mimetype": "text/x-python",
   "name": "python",
   "nbconvert_exporter": "python",
   "pygments_lexer": "ipython3",
   "version": "3.8.8"
  }
 },
 "nbformat": 4,
 "nbformat_minor": 5
}
