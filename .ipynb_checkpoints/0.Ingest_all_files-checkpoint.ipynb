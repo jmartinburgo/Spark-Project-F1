{
 "cells": [
  {
   "cell_type": "code",
   "execution_count": 1,
   "id": "3b6bc06b",
   "metadata": {},
   "outputs": [],
   "source": [
    "import findspark\n",
    "findspark.init()\n",
    "\n",
    "import pyspark # only run after findspark.init()\n",
    "from pyspark.sql import SparkSession\n",
    "spark = SparkSession.builder.getOrCreate()"
   ]
  },
  {
   "cell_type": "code",
   "execution_count": 3,
   "id": "57d4a58b",
   "metadata": {},
   "outputs": [],
   "source": [
    "#Primero se utiliza el help para ver las funciones\n",
    "#dbutils.notebook.run()\n",
    "#Para correr un notebook en otro notebook se utiliza la siguientes sentencia:\n",
    "\n",
    "#dbutils.notebook.run(\"1.ingest_circuits_file\",0,{\"p_data_source\": \"Ergast API\"}) --> Dentro de {} se colocan los parametros que necesita el notebook para funcionar"
   ]
  },
  {
   "cell_type": "code",
   "execution_count": null,
   "id": "92005572",
   "metadata": {},
   "outputs": [],
   "source": []
  }
 ],
 "metadata": {
  "kernelspec": {
   "display_name": "Python 3",
   "language": "python",
   "name": "python3"
  },
  "language_info": {
   "codemirror_mode": {
    "name": "ipython",
    "version": 3
   },
   "file_extension": ".py",
   "mimetype": "text/x-python",
   "name": "python",
   "nbconvert_exporter": "python",
   "pygments_lexer": "ipython3",
   "version": "3.8.8"
  }
 },
 "nbformat": 4,
 "nbformat_minor": 5
}
