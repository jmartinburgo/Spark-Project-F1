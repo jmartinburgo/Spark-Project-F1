{
 "cells": [
  {
   "cell_type": "code",
   "execution_count": 1,
   "id": "b5ae222f",
   "metadata": {},
   "outputs": [],
   "source": [
    "import findspark\n",
    "findspark.init()\n",
    "\n",
    "import pyspark # only run after findspark.init()\n",
    "from pyspark.sql import SparkSession\n",
    "spark = SparkSession.builder.getOrCreate()"
   ]
  },
  {
   "cell_type": "code",
   "execution_count": 2,
   "id": "4cf3f7c3",
   "metadata": {},
   "outputs": [],
   "source": [
    "from pyspark.sql.types import StructType,StructField,IntegerType,StringType,DateType"
   ]
  },
  {
   "cell_type": "code",
   "execution_count": 20,
   "id": "3ce9f411",
   "metadata": {},
   "outputs": [],
   "source": [
    "races_schema = StructType(fields=[StructField(\"raceId\",IntegerType(),False),\n",
    "                                  StructField(\"year\",IntegerType(),True),\n",
    "                                  StructField(\"round\",IntegerType(),True),\n",
    "                                StructField(\"circuitId\",IntegerType(),True),\n",
    "                                  StructField(\"name\",StringType(),True),\n",
    "                                   StructField(\"date\",DateType(),True),\n",
    "                                  StructField(\"time\",StringType(),True),\n",
    "                                  StructField(\"url\",StringType(),True)])\n",
    "#False es para que no pueda tener valores nulos\n",
    "#Otra forma de hacerlo seria:\n",
    "#races_schema = \"raceId INT,year INT,round INT, circuitId INT,name STRING, date DATE, time STRING, url STRING\"\n",
    "                               "
   ]
  },
  {
   "cell_type": "code",
   "execution_count": 21,
   "id": "0ef66efa",
   "metadata": {},
   "outputs": [],
   "source": [
    "races_df= spark.read.option(\"header\",True).schema(races_schema).csv('C:/Users/ACER/Documents/Burgo Juan/Udemi - Azure Databricks/races.csv')"
   ]
  },
  {
   "cell_type": "code",
   "execution_count": 22,
   "id": "a2278e15",
   "metadata": {},
   "outputs": [
    {
     "data": {
      "text/plain": [
       "DataFrame[raceId: int, year: int, round: int, circuitId: int, name: string, date: date, time: string, url: string]"
      ]
     },
     "metadata": {},
     "output_type": "display_data"
    }
   ],
   "source": [
    "display(races_df)"
   ]
  },
  {
   "cell_type": "code",
   "execution_count": 5,
   "id": "64b5f838",
   "metadata": {},
   "outputs": [
    {
     "name": "stdout",
     "output_type": "stream",
     "text": [
      "+------+----+-----+---------+--------------------+----------+--------+--------------------+\n",
      "|raceId|year|round|circuitId|                name|      date|    time|                 url|\n",
      "+------+----+-----+---------+--------------------+----------+--------+--------------------+\n",
      "|     1|2009|    1|        1|Australian Grand ...|2009-03-29|06:00:00|http://en.wikiped...|\n",
      "|     2|2009|    2|        2|Malaysian Grand Prix|2009-04-05|09:00:00|http://en.wikiped...|\n",
      "|     3|2009|    3|       17|  Chinese Grand Prix|2009-04-19|07:00:00|http://en.wikiped...|\n",
      "|     4|2009|    4|        3|  Bahrain Grand Prix|2009-04-26|12:00:00|http://en.wikiped...|\n",
      "|     5|2009|    5|        4|  Spanish Grand Prix|2009-05-10|12:00:00|http://en.wikiped...|\n",
      "|     6|2009|    6|        6|   Monaco Grand Prix|2009-05-24|12:00:00|http://en.wikiped...|\n",
      "|     7|2009|    7|        5|  Turkish Grand Prix|2009-06-07|12:00:00|http://en.wikiped...|\n",
      "|     8|2009|    8|        9|  British Grand Prix|2009-06-21|12:00:00|http://en.wikiped...|\n",
      "|     9|2009|    9|       20|   German Grand Prix|2009-07-12|12:00:00|http://en.wikiped...|\n",
      "|    10|2009|   10|       11|Hungarian Grand Prix|2009-07-26|12:00:00|http://en.wikiped...|\n",
      "|    11|2009|   11|       12| European Grand Prix|2009-08-23|12:00:00|http://en.wikiped...|\n",
      "|    12|2009|   12|       13|  Belgian Grand Prix|2009-08-30|12:00:00|http://en.wikiped...|\n",
      "|    13|2009|   13|       14|  Italian Grand Prix|2009-09-13|12:00:00|http://en.wikiped...|\n",
      "|    14|2009|   14|       15|Singapore Grand Prix|2009-09-27|12:00:00|http://en.wikiped...|\n",
      "|    15|2009|   15|       22| Japanese Grand Prix|2009-10-04|05:00:00|http://en.wikiped...|\n",
      "|    16|2009|   16|       18|Brazilian Grand Prix|2009-10-18|16:00:00|http://en.wikiped...|\n",
      "|    17|2009|   17|       24|Abu Dhabi Grand Prix|2009-11-01|11:00:00|http://en.wikiped...|\n",
      "|    18|2008|    1|        1|Australian Grand ...|2008-03-16|04:30:00|http://en.wikiped...|\n",
      "|    19|2008|    2|        2|Malaysian Grand Prix|2008-03-23|07:00:00|http://en.wikiped...|\n",
      "|    20|2008|    3|        3|  Bahrain Grand Prix|2008-04-06|11:30:00|http://en.wikiped...|\n",
      "+------+----+-----+---------+--------------------+----------+--------+--------------------+\n",
      "only showing top 20 rows\n",
      "\n"
     ]
    }
   ],
   "source": [
    "races_df.show()"
   ]
  },
  {
   "cell_type": "code",
   "execution_count": 6,
   "id": "dda92a82",
   "metadata": {},
   "outputs": [],
   "source": [
    "from pyspark.sql.functions import current_timestamp, to_timestamp,col,lit,concat"
   ]
  },
  {
   "cell_type": "code",
   "execution_count": 7,
   "id": "24bec4fc",
   "metadata": {},
   "outputs": [],
   "source": [
    "races_with_timestamp_df = races_df.withColumn(\"ingestion_date\",current_timestamp()).withColumn(\"race_timestamp\",to_timestamp(concat(col(\"date\"),lit(\" \"),col(\"time\")),\"yyyy-MM-dd HH:mm:ss\"))"
   ]
  },
  {
   "cell_type": "code",
   "execution_count": 8,
   "id": "0c4e2c5f",
   "metadata": {},
   "outputs": [
    {
     "data": {
      "text/plain": [
       "DataFrame[raceId: int, year: int, round: int, circuitId: int, name: string, date: date, time: string, url: string, ingestion_date: timestamp, race_timestamp: timestamp]"
      ]
     },
     "metadata": {},
     "output_type": "display_data"
    }
   ],
   "source": [
    "display(races_with_timestamp_df)"
   ]
  },
  {
   "cell_type": "code",
   "execution_count": 9,
   "id": "fe877aaf",
   "metadata": {},
   "outputs": [
    {
     "name": "stdout",
     "output_type": "stream",
     "text": [
      "+------+----+-----+---------+--------------------+----------+--------+--------------------+--------------------+-------------------+\n",
      "|raceId|year|round|circuitId|                name|      date|    time|                 url|      ingestion_date|     race_timestamp|\n",
      "+------+----+-----+---------+--------------------+----------+--------+--------------------+--------------------+-------------------+\n",
      "|     1|2009|    1|        1|Australian Grand ...|2009-03-29|06:00:00|http://en.wikiped...|2022-08-26 11:57:...|2009-03-29 06:00:00|\n",
      "|     2|2009|    2|        2|Malaysian Grand Prix|2009-04-05|09:00:00|http://en.wikiped...|2022-08-26 11:57:...|2009-04-05 09:00:00|\n",
      "|     3|2009|    3|       17|  Chinese Grand Prix|2009-04-19|07:00:00|http://en.wikiped...|2022-08-26 11:57:...|2009-04-19 07:00:00|\n",
      "|     4|2009|    4|        3|  Bahrain Grand Prix|2009-04-26|12:00:00|http://en.wikiped...|2022-08-26 11:57:...|2009-04-26 12:00:00|\n",
      "|     5|2009|    5|        4|  Spanish Grand Prix|2009-05-10|12:00:00|http://en.wikiped...|2022-08-26 11:57:...|2009-05-10 12:00:00|\n",
      "|     6|2009|    6|        6|   Monaco Grand Prix|2009-05-24|12:00:00|http://en.wikiped...|2022-08-26 11:57:...|2009-05-24 12:00:00|\n",
      "|     7|2009|    7|        5|  Turkish Grand Prix|2009-06-07|12:00:00|http://en.wikiped...|2022-08-26 11:57:...|2009-06-07 12:00:00|\n",
      "|     8|2009|    8|        9|  British Grand Prix|2009-06-21|12:00:00|http://en.wikiped...|2022-08-26 11:57:...|2009-06-21 12:00:00|\n",
      "|     9|2009|    9|       20|   German Grand Prix|2009-07-12|12:00:00|http://en.wikiped...|2022-08-26 11:57:...|2009-07-12 12:00:00|\n",
      "|    10|2009|   10|       11|Hungarian Grand Prix|2009-07-26|12:00:00|http://en.wikiped...|2022-08-26 11:57:...|2009-07-26 12:00:00|\n",
      "|    11|2009|   11|       12| European Grand Prix|2009-08-23|12:00:00|http://en.wikiped...|2022-08-26 11:57:...|2009-08-23 12:00:00|\n",
      "|    12|2009|   12|       13|  Belgian Grand Prix|2009-08-30|12:00:00|http://en.wikiped...|2022-08-26 11:57:...|2009-08-30 12:00:00|\n",
      "|    13|2009|   13|       14|  Italian Grand Prix|2009-09-13|12:00:00|http://en.wikiped...|2022-08-26 11:57:...|2009-09-13 12:00:00|\n",
      "|    14|2009|   14|       15|Singapore Grand Prix|2009-09-27|12:00:00|http://en.wikiped...|2022-08-26 11:57:...|2009-09-27 12:00:00|\n",
      "|    15|2009|   15|       22| Japanese Grand Prix|2009-10-04|05:00:00|http://en.wikiped...|2022-08-26 11:57:...|2009-10-04 05:00:00|\n",
      "|    16|2009|   16|       18|Brazilian Grand Prix|2009-10-18|16:00:00|http://en.wikiped...|2022-08-26 11:57:...|2009-10-18 16:00:00|\n",
      "|    17|2009|   17|       24|Abu Dhabi Grand Prix|2009-11-01|11:00:00|http://en.wikiped...|2022-08-26 11:57:...|2009-11-01 11:00:00|\n",
      "|    18|2008|    1|        1|Australian Grand ...|2008-03-16|04:30:00|http://en.wikiped...|2022-08-26 11:57:...|2008-03-16 04:30:00|\n",
      "|    19|2008|    2|        2|Malaysian Grand Prix|2008-03-23|07:00:00|http://en.wikiped...|2022-08-26 11:57:...|2008-03-23 07:00:00|\n",
      "|    20|2008|    3|        3|  Bahrain Grand Prix|2008-04-06|11:30:00|http://en.wikiped...|2022-08-26 11:57:...|2008-04-06 11:30:00|\n",
      "+------+----+-----+---------+--------------------+----------+--------+--------------------+--------------------+-------------------+\n",
      "only showing top 20 rows\n",
      "\n"
     ]
    }
   ],
   "source": [
    "races_with_timestamp_df.show()"
   ]
  },
  {
   "cell_type": "code",
   "execution_count": 10,
   "id": "f1495dcd",
   "metadata": {},
   "outputs": [],
   "source": [
    "races_selected_df = races_with_timestamp_df.select(col(\"raceId\").alias(\"race_id\"),col(\"year\").alias(\"race_year\"),col(\"round\"),col(\"circuitId\").alias(\"circuit_id\"),col(\"name\"),col(\"ingestion_date\"),col(\"race_timestamp\"))"
   ]
  },
  {
   "cell_type": "code",
   "execution_count": 11,
   "id": "13b24314",
   "metadata": {},
   "outputs": [
    {
     "name": "stdout",
     "output_type": "stream",
     "text": [
      "+-------+---------+-----+----------+--------------------+--------------------+-------------------+\n",
      "|race_id|race_year|round|circuit_id|                name|      ingestion_date|     race_timestamp|\n",
      "+-------+---------+-----+----------+--------------------+--------------------+-------------------+\n",
      "|      1|     2009|    1|         1|Australian Grand ...|2022-08-26 11:57:...|2009-03-29 06:00:00|\n",
      "|      2|     2009|    2|         2|Malaysian Grand Prix|2022-08-26 11:57:...|2009-04-05 09:00:00|\n",
      "|      3|     2009|    3|        17|  Chinese Grand Prix|2022-08-26 11:57:...|2009-04-19 07:00:00|\n",
      "|      4|     2009|    4|         3|  Bahrain Grand Prix|2022-08-26 11:57:...|2009-04-26 12:00:00|\n",
      "|      5|     2009|    5|         4|  Spanish Grand Prix|2022-08-26 11:57:...|2009-05-10 12:00:00|\n",
      "|      6|     2009|    6|         6|   Monaco Grand Prix|2022-08-26 11:57:...|2009-05-24 12:00:00|\n",
      "|      7|     2009|    7|         5|  Turkish Grand Prix|2022-08-26 11:57:...|2009-06-07 12:00:00|\n",
      "|      8|     2009|    8|         9|  British Grand Prix|2022-08-26 11:57:...|2009-06-21 12:00:00|\n",
      "|      9|     2009|    9|        20|   German Grand Prix|2022-08-26 11:57:...|2009-07-12 12:00:00|\n",
      "|     10|     2009|   10|        11|Hungarian Grand Prix|2022-08-26 11:57:...|2009-07-26 12:00:00|\n",
      "|     11|     2009|   11|        12| European Grand Prix|2022-08-26 11:57:...|2009-08-23 12:00:00|\n",
      "|     12|     2009|   12|        13|  Belgian Grand Prix|2022-08-26 11:57:...|2009-08-30 12:00:00|\n",
      "|     13|     2009|   13|        14|  Italian Grand Prix|2022-08-26 11:57:...|2009-09-13 12:00:00|\n",
      "|     14|     2009|   14|        15|Singapore Grand Prix|2022-08-26 11:57:...|2009-09-27 12:00:00|\n",
      "|     15|     2009|   15|        22| Japanese Grand Prix|2022-08-26 11:57:...|2009-10-04 05:00:00|\n",
      "|     16|     2009|   16|        18|Brazilian Grand Prix|2022-08-26 11:57:...|2009-10-18 16:00:00|\n",
      "|     17|     2009|   17|        24|Abu Dhabi Grand Prix|2022-08-26 11:57:...|2009-11-01 11:00:00|\n",
      "|     18|     2008|    1|         1|Australian Grand ...|2022-08-26 11:57:...|2008-03-16 04:30:00|\n",
      "|     19|     2008|    2|         2|Malaysian Grand Prix|2022-08-26 11:57:...|2008-03-23 07:00:00|\n",
      "|     20|     2008|    3|         3|  Bahrain Grand Prix|2022-08-26 11:57:...|2008-04-06 11:30:00|\n",
      "+-------+---------+-----+----------+--------------------+--------------------+-------------------+\n",
      "only showing top 20 rows\n",
      "\n"
     ]
    }
   ],
   "source": [
    "races_selected_df.show()"
   ]
  },
  {
   "cell_type": "code",
   "execution_count": 12,
   "id": "03b0a0ac",
   "metadata": {},
   "outputs": [],
   "source": [
    "races_selected_df.write.mode(\"overwrite\").partitionBy(\"race_year\").parquet('C:/Users/ACER/Documents/Burgo Juan/Udemi - Azure Databricks/races')"
   ]
  },
  {
   "cell_type": "code",
   "execution_count": 13,
   "id": "f9158dad",
   "metadata": {},
   "outputs": [],
   "source": [
    "df=spark.read.parquet('C:/Users/ACER/Documents/Burgo Juan/Udemi - Azure Databricks/races')"
   ]
  },
  {
   "cell_type": "code",
   "execution_count": 14,
   "id": "41eb263a",
   "metadata": {},
   "outputs": [
    {
     "name": "stdout",
     "output_type": "stream",
     "text": [
      "+-------+-----+----------+--------------------+--------------------+-------------------+---------+\n",
      "|race_id|round|circuit_id|                name|      ingestion_date|     race_timestamp|race_year|\n",
      "+-------+-----+----------+--------------------+--------------------+-------------------+---------+\n",
      "|   1053|    2|        21|Emilia Romagna Gr...|2022-08-26 11:57:...|2021-04-18 13:00:00|     2021|\n",
      "|   1052|    1|         3|  Bahrain Grand Prix|2022-08-26 11:57:...|2021-03-28 15:00:00|     2021|\n",
      "|   1051|   21|         1|Australian Grand ...|2022-08-26 11:57:...|2021-11-21 06:00:00|     2021|\n",
      "|   1054|    3|        20|                 TBC|2022-08-26 11:57:...|               null|     2021|\n",
      "|   1055|    4|         4|  Spanish Grand Prix|2022-08-26 11:57:...|2021-05-09 13:00:00|     2021|\n",
      "|   1056|    5|         6|   Monaco Grand Prix|2022-08-26 11:57:...|2021-05-23 13:00:00|     2021|\n",
      "|   1057|    6|        73|Azerbaijan Grand ...|2022-08-26 11:57:...|2021-06-06 12:00:00|     2021|\n",
      "|   1058|    7|         7| Canadian Grand Prix|2022-08-26 11:57:...|2021-06-13 18:00:00|     2021|\n",
      "|   1059|    8|        34|   French Grand Prix|2022-08-26 11:57:...|2021-06-27 13:00:00|     2021|\n",
      "|   1060|    9|        70| Austrian Grand Prix|2022-08-26 11:57:...|2021-07-04 13:00:00|     2021|\n",
      "|   1061|   10|         9|  British Grand Prix|2022-08-26 11:57:...|2021-07-18 14:00:00|     2021|\n",
      "|   1062|   11|        11|Hungarian Grand Prix|2022-08-26 11:57:...|2021-08-01 13:00:00|     2021|\n",
      "|   1063|   12|        13|  Belgian Grand Prix|2022-08-26 11:57:...|2021-08-29 13:00:00|     2021|\n",
      "|   1064|   13|        39|    Dutch Grand Prix|2022-08-26 11:57:...|2021-09-05 13:00:00|     2021|\n",
      "|   1065|   14|        14|  Italian Grand Prix|2022-08-26 11:57:...|2021-09-12 13:00:00|     2021|\n",
      "|   1066|   15|        71|  Russian Grand Prix|2022-08-26 11:57:...|2021-09-26 12:00:00|     2021|\n",
      "|   1067|   16|        15|Singapore Grand Prix|2022-08-26 11:57:...|2021-10-03 12:00:00|     2021|\n",
      "|   1068|   17|        22| Japanese Grand Prix|2022-08-26 11:57:...|2021-10-10 05:00:00|     2021|\n",
      "|   1069|   18|        69|United States Gra...|2022-08-26 11:57:...|2021-10-24 19:00:00|     2021|\n",
      "|   1070|   19|        32|Mexico City Grand...|2022-08-26 11:57:...|2021-10-31 19:00:00|     2021|\n",
      "+-------+-----+----------+--------------------+--------------------+-------------------+---------+\n",
      "only showing top 20 rows\n",
      "\n"
     ]
    }
   ],
   "source": [
    "df.show()"
   ]
  },
  {
   "cell_type": "code",
   "execution_count": null,
   "id": "f0dbd55f",
   "metadata": {},
   "outputs": [],
   "source": []
  }
 ],
 "metadata": {
  "kernelspec": {
   "display_name": "Python 3",
   "language": "python",
   "name": "python3"
  },
  "language_info": {
   "codemirror_mode": {
    "name": "ipython",
    "version": 3
   },
   "file_extension": ".py",
   "mimetype": "text/x-python",
   "name": "python",
   "nbconvert_exporter": "python",
   "pygments_lexer": "ipython3",
   "version": "3.8.8"
  }
 },
 "nbformat": 4,
 "nbformat_minor": 5
}
