{
 "cells": [
  {
   "cell_type": "code",
   "execution_count": 1,
   "id": "6a8c81e1",
   "metadata": {},
   "outputs": [],
   "source": [
    "import findspark\n",
    "findspark.init\n",
    "\n",
    "import pyspark\n",
    "from pyspark.sql import SparkSession\n",
    "spark = SparkSession.builder.getOrCreate()"
   ]
  },
  {
   "cell_type": "markdown",
   "id": "7666f5c9",
   "metadata": {},
   "source": [
    "### Read Csv file using dataframe reader API"
   ]
  },
  {
   "cell_type": "code",
   "execution_count": 2,
   "id": "c811f683",
   "metadata": {},
   "outputs": [],
   "source": [
    "from pyspark.sql.types import StructType, StructField, StringType, IntegerType, FloatType"
   ]
  },
  {
   "cell_type": "code",
   "execution_count": 5,
   "id": "5252e0f0",
   "metadata": {},
   "outputs": [],
   "source": [
    "qualifying_schema = StructType(fields=[StructField(\"qualifyId\",IntegerType(),False),\n",
    "                                      StructField(\"raceId\",IntegerType(),True),\n",
    "                                      StructField(\"driverId\",IntegerType(),True),\n",
    "                                      StructField(\"constructorId\",IntegerType(),True),\n",
    "                                      StructField(\"number\",IntegerType(),True),\n",
    "                                      StructField(\"position\",IntegerType(),True),\n",
    "                                        StructField(\"q1\",StringType(),True),\n",
    "                                        StructField(\"q2\",StringType(),True),\n",
    "                                        StructField(\"q3\",StringType(),True),\n",
    "    \n",
    "])"
   ]
  },
  {
   "cell_type": "code",
   "execution_count": 6,
   "id": "39e79dac",
   "metadata": {},
   "outputs": [],
   "source": [
    "qualifying_df = spark.read.schema(qualifying_schema).option(\"multiLine\",True).json('C:/Users/ACER/Documents/Burgo Juan/Udemi - Azure Databricks/qualifying')"
   ]
  },
  {
   "cell_type": "code",
   "execution_count": 7,
   "id": "d8aa02f2",
   "metadata": {},
   "outputs": [
    {
     "name": "stdout",
     "output_type": "stream",
     "text": [
      "+---------+------+--------+-------------+------+--------+--------+--------+--------+\n",
      "|qualifyId|raceId|driverId|constructorId|number|position|      q1|      q2|      q3|\n",
      "+---------+------+--------+-------------+------+--------+--------+--------+--------+\n",
      "|        1|    18|       1|            1|    22|       1|1:26.572|1:25.187|1:26.714|\n",
      "|        2|    18|       9|            2|     4|       2|1:26.103|1:25.315|1:26.869|\n",
      "|        3|    18|       5|            1|    23|       3|1:25.664|1:25.452|1:27.079|\n",
      "|        4|    18|      13|            6|     2|       4|1:25.994|1:25.691|1:27.178|\n",
      "|        5|    18|       2|            2|     3|       5|1:25.960|1:25.518|1:27.236|\n",
      "|        6|    18|      15|            7|    11|       6|1:26.427|1:26.101|1:28.527|\n",
      "|        7|    18|       3|            3|     7|       7|1:26.295|1:26.059|1:28.687|\n",
      "|        8|    18|      14|            9|     9|       8|1:26.381|1:26.063|1:29.041|\n",
      "|        9|    18|      10|            7|    12|       9|1:26.919|1:26.164|1:29.593|\n",
      "|       10|    18|      20|            5|    15|      10|1:26.702|1:25.842|      \\N|\n",
      "|       11|    18|      22|           11|    17|      11|1:26.369|1:26.173|      \\N|\n",
      "|       12|    18|       4|            4|     5|      12|1:26.907|1:26.188|      \\N|\n",
      "|       13|    18|      18|           11|    16|      13|1:26.712|1:26.259|      \\N|\n",
      "|       14|    18|       6|            3|     8|      14|1:26.891|1:26.413|      \\N|\n",
      "|       15|    18|      17|            9|    10|      15|1:26.914|      \\N|      \\N|\n",
      "|       16|    18|       8|            6|     1|      16|1:26.140|      \\N|      \\N|\n",
      "|       17|    18|      21|           10|    21|      17|1:27.207|      \\N|      \\N|\n",
      "|       18|    18|       7|            5|    14|      18|1:27.446|      \\N|      \\N|\n",
      "|       19|    18|      16|           10|    20|      19|1:27.859|      \\N|      \\N|\n",
      "|       20|    18|      11|            8|    18|      20|1:28.208|      \\N|      \\N|\n",
      "+---------+------+--------+-------------+------+--------+--------+--------+--------+\n",
      "only showing top 20 rows\n",
      "\n"
     ]
    }
   ],
   "source": [
    "qualifying_df.show()"
   ]
  },
  {
   "cell_type": "markdown",
   "id": "52c57b79",
   "metadata": {},
   "source": [
    "### Rename columns and add new columns  "
   ]
  },
  {
   "cell_type": "code",
   "execution_count": 8,
   "id": "c83febe7",
   "metadata": {},
   "outputs": [],
   "source": [
    "from pyspark.sql.functions import current_timestamp, col"
   ]
  },
  {
   "cell_type": "code",
   "execution_count": 9,
   "id": "b98a7f64",
   "metadata": {},
   "outputs": [],
   "source": [
    "final_df=qualifying_df.withColumnRenamed(\"qualifyId\",\"qualify_id\")\\\n",
    ".withColumnRenamed(\"driverId\",\"driver_id\")\\\n",
    ".withColumnRenamed(\"raceId\",\"race_id\")\\\n",
    ".withColumnRenamed(\"constructorId\",\"constructor_id\")\\\n",
    ".withColumn(\"ingestion_date\",current_timestamp())"
   ]
  },
  {
   "cell_type": "code",
   "execution_count": 10,
   "id": "83c211ba",
   "metadata": {},
   "outputs": [
    {
     "name": "stdout",
     "output_type": "stream",
     "text": [
      "+----------+-------+---------+--------------+------+--------+--------+--------+--------+--------------------+\n",
      "|qualify_id|race_id|driver_id|constructor_id|number|position|      q1|      q2|      q3|      ingestion_date|\n",
      "+----------+-------+---------+--------------+------+--------+--------+--------+--------+--------------------+\n",
      "|         1|     18|        1|             1|    22|       1|1:26.572|1:25.187|1:26.714|2022-09-08 12:32:...|\n",
      "|         2|     18|        9|             2|     4|       2|1:26.103|1:25.315|1:26.869|2022-09-08 12:32:...|\n",
      "|         3|     18|        5|             1|    23|       3|1:25.664|1:25.452|1:27.079|2022-09-08 12:32:...|\n",
      "|         4|     18|       13|             6|     2|       4|1:25.994|1:25.691|1:27.178|2022-09-08 12:32:...|\n",
      "|         5|     18|        2|             2|     3|       5|1:25.960|1:25.518|1:27.236|2022-09-08 12:32:...|\n",
      "|         6|     18|       15|             7|    11|       6|1:26.427|1:26.101|1:28.527|2022-09-08 12:32:...|\n",
      "|         7|     18|        3|             3|     7|       7|1:26.295|1:26.059|1:28.687|2022-09-08 12:32:...|\n",
      "|         8|     18|       14|             9|     9|       8|1:26.381|1:26.063|1:29.041|2022-09-08 12:32:...|\n",
      "|         9|     18|       10|             7|    12|       9|1:26.919|1:26.164|1:29.593|2022-09-08 12:32:...|\n",
      "|        10|     18|       20|             5|    15|      10|1:26.702|1:25.842|      \\N|2022-09-08 12:32:...|\n",
      "|        11|     18|       22|            11|    17|      11|1:26.369|1:26.173|      \\N|2022-09-08 12:32:...|\n",
      "|        12|     18|        4|             4|     5|      12|1:26.907|1:26.188|      \\N|2022-09-08 12:32:...|\n",
      "|        13|     18|       18|            11|    16|      13|1:26.712|1:26.259|      \\N|2022-09-08 12:32:...|\n",
      "|        14|     18|        6|             3|     8|      14|1:26.891|1:26.413|      \\N|2022-09-08 12:32:...|\n",
      "|        15|     18|       17|             9|    10|      15|1:26.914|      \\N|      \\N|2022-09-08 12:32:...|\n",
      "|        16|     18|        8|             6|     1|      16|1:26.140|      \\N|      \\N|2022-09-08 12:32:...|\n",
      "|        17|     18|       21|            10|    21|      17|1:27.207|      \\N|      \\N|2022-09-08 12:32:...|\n",
      "|        18|     18|        7|             5|    14|      18|1:27.446|      \\N|      \\N|2022-09-08 12:32:...|\n",
      "|        19|     18|       16|            10|    20|      19|1:27.859|      \\N|      \\N|2022-09-08 12:32:...|\n",
      "|        20|     18|       11|             8|    18|      20|1:28.208|      \\N|      \\N|2022-09-08 12:32:...|\n",
      "+----------+-------+---------+--------------+------+--------+--------+--------+--------+--------------------+\n",
      "only showing top 20 rows\n",
      "\n"
     ]
    }
   ],
   "source": [
    "final_df.show()"
   ]
  },
  {
   "cell_type": "markdown",
   "id": "043fbb6a",
   "metadata": {},
   "source": [
    "### Write to output to processed container in parquet format"
   ]
  },
  {
   "cell_type": "code",
   "execution_count": 11,
   "id": "5b150713",
   "metadata": {},
   "outputs": [],
   "source": [
    "final_df.write.mode(\"overwrite\").parquet ('C:/Users/ACER/Documents/Burgo Juan/Udemi - Azure Databricks/qualifying_parquet')"
   ]
  },
  {
   "cell_type": "code",
   "execution_count": 12,
   "id": "174f3957",
   "metadata": {},
   "outputs": [
    {
     "name": "stdout",
     "output_type": "stream",
     "text": [
      "+----------+-------+---------+--------------+------+--------+--------+--------+--------+--------------------+\n",
      "|qualify_id|race_id|driver_id|constructor_id|number|position|      q1|      q2|      q3|      ingestion_date|\n",
      "+----------+-------+---------+--------------+------+--------+--------+--------+--------+--------------------+\n",
      "|         1|     18|        1|             1|    22|       1|1:26.572|1:25.187|1:26.714|2022-09-08 12:33:...|\n",
      "|         2|     18|        9|             2|     4|       2|1:26.103|1:25.315|1:26.869|2022-09-08 12:33:...|\n",
      "|         3|     18|        5|             1|    23|       3|1:25.664|1:25.452|1:27.079|2022-09-08 12:33:...|\n",
      "|         4|     18|       13|             6|     2|       4|1:25.994|1:25.691|1:27.178|2022-09-08 12:33:...|\n",
      "|         5|     18|        2|             2|     3|       5|1:25.960|1:25.518|1:27.236|2022-09-08 12:33:...|\n",
      "|         6|     18|       15|             7|    11|       6|1:26.427|1:26.101|1:28.527|2022-09-08 12:33:...|\n",
      "|         7|     18|        3|             3|     7|       7|1:26.295|1:26.059|1:28.687|2022-09-08 12:33:...|\n",
      "|         8|     18|       14|             9|     9|       8|1:26.381|1:26.063|1:29.041|2022-09-08 12:33:...|\n",
      "|         9|     18|       10|             7|    12|       9|1:26.919|1:26.164|1:29.593|2022-09-08 12:33:...|\n",
      "|        10|     18|       20|             5|    15|      10|1:26.702|1:25.842|      \\N|2022-09-08 12:33:...|\n",
      "|        11|     18|       22|            11|    17|      11|1:26.369|1:26.173|      \\N|2022-09-08 12:33:...|\n",
      "|        12|     18|        4|             4|     5|      12|1:26.907|1:26.188|      \\N|2022-09-08 12:33:...|\n",
      "|        13|     18|       18|            11|    16|      13|1:26.712|1:26.259|      \\N|2022-09-08 12:33:...|\n",
      "|        14|     18|        6|             3|     8|      14|1:26.891|1:26.413|      \\N|2022-09-08 12:33:...|\n",
      "|        15|     18|       17|             9|    10|      15|1:26.914|      \\N|      \\N|2022-09-08 12:33:...|\n",
      "|        16|     18|        8|             6|     1|      16|1:26.140|      \\N|      \\N|2022-09-08 12:33:...|\n",
      "|        17|     18|       21|            10|    21|      17|1:27.207|      \\N|      \\N|2022-09-08 12:33:...|\n",
      "|        18|     18|        7|             5|    14|      18|1:27.446|      \\N|      \\N|2022-09-08 12:33:...|\n",
      "|        19|     18|       16|            10|    20|      19|1:27.859|      \\N|      \\N|2022-09-08 12:33:...|\n",
      "|        20|     18|       11|             8|    18|      20|1:28.208|      \\N|      \\N|2022-09-08 12:33:...|\n",
      "+----------+-------+---------+--------------+------+--------+--------+--------+--------+--------------------+\n",
      "only showing top 20 rows\n",
      "\n"
     ]
    }
   ],
   "source": [
    "spark.read.parquet('C:/Users/ACER/Documents/Burgo Juan/Udemi - Azure Databricks/qualifying_parquet').show()"
   ]
  },
  {
   "cell_type": "code",
   "execution_count": null,
   "id": "4a5faf38",
   "metadata": {},
   "outputs": [],
   "source": []
  }
 ],
 "metadata": {
  "kernelspec": {
   "display_name": "Python 3",
   "language": "python",
   "name": "python3"
  },
  "language_info": {
   "codemirror_mode": {
    "name": "ipython",
    "version": 3
   },
   "file_extension": ".py",
   "mimetype": "text/x-python",
   "name": "python",
   "nbconvert_exporter": "python",
   "pygments_lexer": "ipython3",
   "version": "3.8.8"
  }
 },
 "nbformat": 4,
 "nbformat_minor": 5
}
