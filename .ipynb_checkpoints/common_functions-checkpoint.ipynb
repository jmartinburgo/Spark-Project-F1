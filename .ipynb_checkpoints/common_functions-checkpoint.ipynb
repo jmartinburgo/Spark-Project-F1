{
 "cells": [
  {
   "cell_type": "code",
   "execution_count": 1,
   "id": "0de2b8a6",
   "metadata": {},
   "outputs": [],
   "source": [
    "import findspark\n",
    "findspark.init()\n",
    "\n",
    "import pyspark # only run after findspark.init()\n",
    "from pyspark.sql import SparkSession\n",
    "spark = SparkSession.builder.getOrCreate()\n"
   ]
  },
  {
   "cell_type": "code",
   "execution_count": 2,
   "id": "4f884dcb",
   "metadata": {},
   "outputs": [],
   "source": [
    "from pyspark.sql.functions import current_timestamp"
   ]
  },
  {
   "cell_type": "code",
   "execution_count": 4,
   "id": "88f04466",
   "metadata": {},
   "outputs": [],
   "source": [
    "def add_ingestion_date (input_df):\n",
    "    output_df = input_df.withColumn(\"ingestion_date\",current_timestamp())\n",
    "    return output_df"
   ]
  }
 ],
 "metadata": {
  "kernelspec": {
   "display_name": "Python 3",
   "language": "python",
   "name": "python3"
  },
  "language_info": {
   "codemirror_mode": {
    "name": "ipython",
    "version": 3
   },
   "file_extension": ".py",
   "mimetype": "text/x-python",
   "name": "python",
   "nbconvert_exporter": "python",
   "pygments_lexer": "ipython3",
   "version": "3.8.8"
  }
 },
 "nbformat": 4,
 "nbformat_minor": 5
}
