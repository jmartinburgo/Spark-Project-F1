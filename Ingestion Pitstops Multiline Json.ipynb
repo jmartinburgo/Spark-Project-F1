{
 "cells": [
  {
   "cell_type": "code",
   "execution_count": 1,
   "id": "408127fe",
   "metadata": {},
   "outputs": [],
   "source": [
    "import findspark\n",
    "findspark.init\n",
    "\n",
    "import pyspark\n",
    "from pyspark.sql import SparkSession\n",
    "spark = SparkSession.builder.getOrCreate()"
   ]
  },
  {
   "cell_type": "code",
   "execution_count": 4,
   "id": "77fdb7d3",
   "metadata": {},
   "outputs": [],
   "source": [
    "from pyspark.sql.types import StructType,StructField, StringType, IntegerType"
   ]
  },
  {
   "cell_type": "code",
   "execution_count": 5,
   "id": "546dc2e7",
   "metadata": {},
   "outputs": [],
   "source": [
    "pit_stops_schema = StructType(fields=[StructField(\"raceId\",IntegerType(),False),\n",
    "                                      StructField(\"driverId\",IntegerType(),True),\n",
    "                                      StructField(\"stop\",StringType(),True),\n",
    "                                      StructField(\"lap\",IntegerType(),True),\n",
    "                                      StructField(\"time\",StringType(),True),\n",
    "                                      StructField(\"duration\",StringType(),True),\n",
    "                                      StructField(\"milliseconds\",IntegerType(),True),\n",
    "    \n",
    "])"
   ]
  },
  {
   "cell_type": "code",
   "execution_count": 16,
   "id": "fac27461",
   "metadata": {},
   "outputs": [],
   "source": [
    "#Se agrega el option multiLine por que el json es multilinea. Si no lo agregas aparece nulo\n",
    "pit_stops_df=spark.read.schema(pit_stops_schema).option(\"multiLine\",True).json('C:/Users/ACER/Documents/Burgo Juan/Udemi - Azure Databricks/pit_stops.json')"
   ]
  },
  {
   "cell_type": "code",
   "execution_count": 17,
   "id": "0b4da044",
   "metadata": {},
   "outputs": [
    {
     "name": "stdout",
     "output_type": "stream",
     "text": [
      "+------+--------+----+---+--------+--------+------------+\n",
      "|raceId|driverId|stop|lap|    time|duration|milliseconds|\n",
      "+------+--------+----+---+--------+--------+------------+\n",
      "|   841|     153|   1|  1|17:05:23|  26.898|       26898|\n",
      "|   841|      30|   1|  1|17:05:52|  25.021|       25021|\n",
      "|   841|      17|   1| 11|17:20:48|  23.426|       23426|\n",
      "|   841|       4|   1| 12|17:22:34|  23.251|       23251|\n",
      "|   841|      13|   1| 13|17:24:10|  23.842|       23842|\n",
      "|   841|      22|   1| 13|17:24:29|  23.643|       23643|\n",
      "|   841|      20|   1| 14|17:25:17|  22.603|       22603|\n",
      "|   841|     814|   1| 14|17:26:03|  24.863|       24863|\n",
      "|   841|     816|   1| 14|17:26:50|  25.259|       25259|\n",
      "|   841|      67|   1| 15|17:27:34|  25.342|       25342|\n",
      "|   841|       2|   1| 15|17:27:41|  22.994|       22994|\n",
      "|   841|       1|   1| 16|17:28:24|  23.227|       23227|\n",
      "|   841|     808|   1| 16|17:28:39|  24.535|       24535|\n",
      "|   841|       3|   1| 16|17:29:00|  23.716|       23716|\n",
      "|   841|     155|   1| 16|17:29:06|  24.064|       24064|\n",
      "|   841|      16|   1| 16|17:29:08|  25.978|       25978|\n",
      "|   841|      15|   1| 16|17:29:49|  24.899|       24899|\n",
      "|   841|      18|   1| 17|17:30:24|  16.867|       16867|\n",
      "|   841|     153|   2| 17|17:31:06|  24.463|       24463|\n",
      "|   841|       5|   1| 17|17:31:11|  24.865|       24865|\n",
      "+------+--------+----+---+--------+--------+------------+\n",
      "only showing top 20 rows\n",
      "\n"
     ]
    }
   ],
   "source": [
    "pit_stops_df.show()"
   ]
  },
  {
   "cell_type": "markdown",
   "id": "5f589de3",
   "metadata": {},
   "source": [
    "### Rename columns and add nex columns"
   ]
  },
  {
   "cell_type": "code",
   "execution_count": 18,
   "id": "ceeb3928",
   "metadata": {},
   "outputs": [],
   "source": [
    "from pyspark.sql.functions import current_timestamp"
   ]
  },
  {
   "cell_type": "code",
   "execution_count": 19,
   "id": "84444be5",
   "metadata": {},
   "outputs": [],
   "source": [
    "final_df = pit_stops_df.withColumnRenamed(\"driveId\",\"driver_id\")\\\n",
    ".withColumnRenamed(\"raceId\",\"race_id\")\\\n",
    ".withColumn(\"ingestion_date\",current_timestamp())"
   ]
  },
  {
   "cell_type": "code",
   "execution_count": 20,
   "id": "b8709710",
   "metadata": {},
   "outputs": [
    {
     "name": "stdout",
     "output_type": "stream",
     "text": [
      "+-------+--------+----+---+--------+--------+------------+--------------------+\n",
      "|race_id|driverId|stop|lap|    time|duration|milliseconds|      ingestion_date|\n",
      "+-------+--------+----+---+--------+--------+------------+--------------------+\n",
      "|    841|     153|   1|  1|17:05:23|  26.898|       26898|2022-09-06 15:08:...|\n",
      "|    841|      30|   1|  1|17:05:52|  25.021|       25021|2022-09-06 15:08:...|\n",
      "|    841|      17|   1| 11|17:20:48|  23.426|       23426|2022-09-06 15:08:...|\n",
      "|    841|       4|   1| 12|17:22:34|  23.251|       23251|2022-09-06 15:08:...|\n",
      "|    841|      13|   1| 13|17:24:10|  23.842|       23842|2022-09-06 15:08:...|\n",
      "|    841|      22|   1| 13|17:24:29|  23.643|       23643|2022-09-06 15:08:...|\n",
      "|    841|      20|   1| 14|17:25:17|  22.603|       22603|2022-09-06 15:08:...|\n",
      "|    841|     814|   1| 14|17:26:03|  24.863|       24863|2022-09-06 15:08:...|\n",
      "|    841|     816|   1| 14|17:26:50|  25.259|       25259|2022-09-06 15:08:...|\n",
      "|    841|      67|   1| 15|17:27:34|  25.342|       25342|2022-09-06 15:08:...|\n",
      "|    841|       2|   1| 15|17:27:41|  22.994|       22994|2022-09-06 15:08:...|\n",
      "|    841|       1|   1| 16|17:28:24|  23.227|       23227|2022-09-06 15:08:...|\n",
      "|    841|     808|   1| 16|17:28:39|  24.535|       24535|2022-09-06 15:08:...|\n",
      "|    841|       3|   1| 16|17:29:00|  23.716|       23716|2022-09-06 15:08:...|\n",
      "|    841|     155|   1| 16|17:29:06|  24.064|       24064|2022-09-06 15:08:...|\n",
      "|    841|      16|   1| 16|17:29:08|  25.978|       25978|2022-09-06 15:08:...|\n",
      "|    841|      15|   1| 16|17:29:49|  24.899|       24899|2022-09-06 15:08:...|\n",
      "|    841|      18|   1| 17|17:30:24|  16.867|       16867|2022-09-06 15:08:...|\n",
      "|    841|     153|   2| 17|17:31:06|  24.463|       24463|2022-09-06 15:08:...|\n",
      "|    841|       5|   1| 17|17:31:11|  24.865|       24865|2022-09-06 15:08:...|\n",
      "+-------+--------+----+---+--------+--------+------------+--------------------+\n",
      "only showing top 20 rows\n",
      "\n"
     ]
    }
   ],
   "source": [
    "final_df.show()"
   ]
  },
  {
   "cell_type": "markdown",
   "id": "5d165471",
   "metadata": {},
   "source": [
    "###  Write to output to processed container in parquet format"
   ]
  },
  {
   "cell_type": "code",
   "execution_count": 21,
   "id": "ced8d9f8",
   "metadata": {},
   "outputs": [],
   "source": [
    "final_df.write.mode(\"overwrite\").parquet('C:/Users/ACER/Documents/Burgo Juan/Udemi - Azure Databricks/pit_stops')"
   ]
  },
  {
   "cell_type": "code",
   "execution_count": 22,
   "id": "3121d5b0",
   "metadata": {},
   "outputs": [
    {
     "name": "stdout",
     "output_type": "stream",
     "text": [
      "+-------+--------+----+---+--------+--------+------------+--------------------+\n",
      "|race_id|driverId|stop|lap|    time|duration|milliseconds|      ingestion_date|\n",
      "+-------+--------+----+---+--------+--------+------------+--------------------+\n",
      "|    841|     153|   1|  1|17:05:23|  26.898|       26898|2022-09-06 15:10:...|\n",
      "|    841|      30|   1|  1|17:05:52|  25.021|       25021|2022-09-06 15:10:...|\n",
      "|    841|      17|   1| 11|17:20:48|  23.426|       23426|2022-09-06 15:10:...|\n",
      "|    841|       4|   1| 12|17:22:34|  23.251|       23251|2022-09-06 15:10:...|\n",
      "|    841|      13|   1| 13|17:24:10|  23.842|       23842|2022-09-06 15:10:...|\n",
      "|    841|      22|   1| 13|17:24:29|  23.643|       23643|2022-09-06 15:10:...|\n",
      "|    841|      20|   1| 14|17:25:17|  22.603|       22603|2022-09-06 15:10:...|\n",
      "|    841|     814|   1| 14|17:26:03|  24.863|       24863|2022-09-06 15:10:...|\n",
      "|    841|     816|   1| 14|17:26:50|  25.259|       25259|2022-09-06 15:10:...|\n",
      "|    841|      67|   1| 15|17:27:34|  25.342|       25342|2022-09-06 15:10:...|\n",
      "|    841|       2|   1| 15|17:27:41|  22.994|       22994|2022-09-06 15:10:...|\n",
      "|    841|       1|   1| 16|17:28:24|  23.227|       23227|2022-09-06 15:10:...|\n",
      "|    841|     808|   1| 16|17:28:39|  24.535|       24535|2022-09-06 15:10:...|\n",
      "|    841|       3|   1| 16|17:29:00|  23.716|       23716|2022-09-06 15:10:...|\n",
      "|    841|     155|   1| 16|17:29:06|  24.064|       24064|2022-09-06 15:10:...|\n",
      "|    841|      16|   1| 16|17:29:08|  25.978|       25978|2022-09-06 15:10:...|\n",
      "|    841|      15|   1| 16|17:29:49|  24.899|       24899|2022-09-06 15:10:...|\n",
      "|    841|      18|   1| 17|17:30:24|  16.867|       16867|2022-09-06 15:10:...|\n",
      "|    841|     153|   2| 17|17:31:06|  24.463|       24463|2022-09-06 15:10:...|\n",
      "|    841|       5|   1| 17|17:31:11|  24.865|       24865|2022-09-06 15:10:...|\n",
      "+-------+--------+----+---+--------+--------+------------+--------------------+\n",
      "only showing top 20 rows\n",
      "\n"
     ]
    }
   ],
   "source": [
    "spark.read.parquet('C:/Users/ACER/Documents/Burgo Juan/Udemi - Azure Databricks/pit_stops').show()"
   ]
  },
  {
   "cell_type": "code",
   "execution_count": null,
   "id": "ff67fdee",
   "metadata": {},
   "outputs": [],
   "source": []
  }
 ],
 "metadata": {
  "kernelspec": {
   "display_name": "Python 3",
   "language": "python",
   "name": "python3"
  },
  "language_info": {
   "codemirror_mode": {
    "name": "ipython",
    "version": 3
   },
   "file_extension": ".py",
   "mimetype": "text/x-python",
   "name": "python",
   "nbconvert_exporter": "python",
   "pygments_lexer": "ipython3",
   "version": "3.8.8"
  }
 },
 "nbformat": 4,
 "nbformat_minor": 5
}
