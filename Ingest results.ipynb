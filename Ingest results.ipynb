{
 "cells": [
  {
   "cell_type": "code",
   "execution_count": 5,
   "id": "2060edef",
   "metadata": {},
   "outputs": [],
   "source": [
    "import findspark\n",
    "findspark.init\n",
    "\n",
    "import pyspark\n",
    "from pyspark.sql import SparkSession\n",
    "spark = SparkSession.builder.getOrCreate()"
   ]
  },
  {
   "cell_type": "code",
   "execution_count": 6,
   "id": "d040d652",
   "metadata": {},
   "outputs": [],
   "source": [
    "from  pyspark.sql.types import StructType, StructField, IntegerType, StringType, FloatType"
   ]
  },
  {
   "cell_type": "code",
   "execution_count": 15,
   "id": "fc70107d",
   "metadata": {},
   "outputs": [],
   "source": [
    "results_schema = StructType(fields=[StructField(\"resultId\",IntegerType(),False),\n",
    "                                    StructField(\"raceId\",IntegerType(),True),\n",
    "                                    StructField(\"driverId\",IntegerType(),True),\n",
    "                                    StructField(\"constructorId\",IntegerType(),True),\n",
    "                                    StructField(\"number\",IntegerType(),True),\n",
    "                                    StructField(\"grid\",IntegerType(),True),\n",
    "                                    StructField(\"position\",IntegerType(),True),\n",
    "                                    StructField(\"positionText\",StringType(),True),\n",
    "                                    StructField(\"positionOrder\",IntegerType(),True),\n",
    "                                    StructField(\"points\",FloatType(),True),\n",
    "                                    StructField(\"laps\",IntegerType(),True),\n",
    "                                    StructField(\"time\",StringType(),True),\n",
    "                                    StructField(\"milliseconds\",IntegerType(),True),\n",
    "                                    StructField(\"fastestLap\",IntegerType(),True),\n",
    "                                    StructField(\"rank\",IntegerType(),True),\n",
    "                                    StructField(\"fastestLapTime\",StringType(),True),\n",
    "                                    StructField(\"fastestLapSpeed\",FloatType(),True),\n",
    "                                    StructField(\"statusId\",StringType(),True),\n",
    "                                    \n",
    "    \n",
    "])"
   ]
  },
  {
   "cell_type": "code",
   "execution_count": 16,
   "id": "4defc5c2",
   "metadata": {},
   "outputs": [],
   "source": [
    "results_df = spark.read.schema(results_schema).json('C:/Users/ACER/Documents/Burgo Juan/Udemi - Azure Databricks/results.json')"
   ]
  },
  {
   "cell_type": "code",
   "execution_count": 17,
   "id": "7b307e43",
   "metadata": {},
   "outputs": [
    {
     "name": "stdout",
     "output_type": "stream",
     "text": [
      "+--------+------+--------+-------------+------+----+--------+------------+-------------+------+----+-----------+------------+----------+----+--------------+---------------+--------+\n",
      "|resultId|raceId|driverId|constructorId|number|grid|position|positionText|positionOrder|points|laps|       time|milliseconds|fastestLap|rank|fastestLapTime|fastestLapSpeed|statusId|\n",
      "+--------+------+--------+-------------+------+----+--------+------------+-------------+------+----+-----------+------------+----------+----+--------------+---------------+--------+\n",
      "|       1|    18|       1|            1|    22|   1|       1|           1|            1|  10.0|  58|1:34:50.616|     5690616|        39|   2|      1:27.452|          218.3|       1|\n",
      "|       2|    18|       2|            2|     3|   5|       2|           2|            2|   8.0|  58|     +5.478|     5696094|        41|   3|      1:27.739|        217.586|       1|\n",
      "|       3|    18|       3|            3|     7|   7|       3|           3|            3|   6.0|  58|     +8.163|     5698779|        41|   5|      1:28.090|        216.719|       1|\n",
      "|       4|    18|       4|            4|     5|  11|       4|           4|            4|   5.0|  58|    +17.181|     5707797|        58|   7|      1:28.603|        215.464|       1|\n",
      "|       5|    18|       5|            1|    23|   3|       5|           5|            5|   4.0|  58|    +18.014|     5708630|        43|   1|      1:27.418|        218.385|       1|\n",
      "|       6|    18|       6|            3|     8|  13|       6|           6|            6|   3.0|  57|         \\N|        null|        50|  14|      1:29.639|        212.974|      11|\n",
      "|       7|    18|       7|            5|    14|  17|       7|           7|            7|   2.0|  55|         \\N|        null|        22|  12|      1:29.534|        213.224|       5|\n",
      "|       8|    18|       8|            6|     1|  15|       8|           8|            8|   1.0|  53|         \\N|        null|        20|   4|      1:27.903|         217.18|       5|\n",
      "|       9|    18|       9|            2|     4|   2|    null|           R|            9|   0.0|  47|         \\N|        null|        15|   9|      1:28.753|          215.1|       4|\n",
      "|      10|    18|      10|            7|    12|  18|    null|           R|           10|   0.0|  43|         \\N|        null|        23|  13|      1:29.558|        213.166|       3|\n",
      "|      11|    18|      11|            8|    18|  19|    null|           R|           11|   0.0|  32|         \\N|        null|        24|  15|      1:30.892|        210.038|       7|\n",
      "|      12|    18|      12|            4|     6|  20|    null|           R|           12|   0.0|  30|         \\N|        null|        20|  16|      1:31.384|        208.907|       8|\n",
      "|      13|    18|      13|            6|     2|   4|    null|           R|           13|   0.0|  29|         \\N|        null|        23|   6|      1:28.175|         216.51|       5|\n",
      "|      14|    18|      14|            9|     9|   8|    null|           R|           14|   0.0|  25|         \\N|        null|        21|  11|      1:29.502|          213.3|       4|\n",
      "|      15|    18|      15|            7|    11|   6|    null|           R|           15|   0.0|  19|         \\N|        null|        18|  10|      1:29.310|        213.758|      10|\n",
      "|      16|    18|      16|           10|    20|  22|    null|           R|           16|   0.0|   8|         \\N|        null|         8|  17|      1:32.021|        207.461|       9|\n",
      "|      17|    18|      17|            9|    10|  14|    null|           R|           17|   0.0|   0|         \\N|        null|      null|null|            \\N|           null|       4|\n",
      "|      18|    18|      18|           11|    16|  12|    null|           R|           18|   0.0|   0|         \\N|        null|      null|null|            \\N|           null|       4|\n",
      "|      19|    18|      19|            8|    19|  21|    null|           R|           19|   0.0|   0|         \\N|        null|      null|null|            \\N|           null|       4|\n",
      "|      20|    18|      20|            5|    15|   9|    null|           R|           20|   0.0|   0|         \\N|        null|      null|null|            \\N|           null|       4|\n",
      "+--------+------+--------+-------------+------+----+--------+------------+-------------+------+----+-----------+------------+----------+----+--------------+---------------+--------+\n",
      "only showing top 20 rows\n",
      "\n"
     ]
    }
   ],
   "source": [
    "results_df.show()"
   ]
  },
  {
   "cell_type": "markdown",
   "id": "b6e3a264",
   "metadata": {},
   "source": [
    "### Rename columns and add new columns "
   ]
  },
  {
   "cell_type": "code",
   "execution_count": 18,
   "id": "3c8e3097",
   "metadata": {},
   "outputs": [],
   "source": [
    "from pyspark.sql.functions import col, current_timestamp"
   ]
  },
  {
   "cell_type": "code",
   "execution_count": 19,
   "id": "83a30d9a",
   "metadata": {},
   "outputs": [],
   "source": [
    "results_with_columns_df=  results_df.withColumnRenamed(\"resultId\",\"result_id\")\\\n",
    ".withColumnRenamed(\"raceId\",\"race_id\")\\\n",
    ".withColumnRenamed(\"driverId\",\"driver_id\")\\\n",
    ".withColumnRenamed(\"constructorId\",\"constructor_id\")\\\n",
    ".withColumnRenamed(\"positionText\",\"position_text\")\\\n",
    ".withColumnRenamed(\"positionOrder\",\"position_order\")\\\n",
    ".withColumnRenamed(\"fastestLap\",\"fastest_lap\")\\\n",
    ".withColumnRenamed(\"fastestLapTime\",\"fastest_lap_time\")\\\n",
    ".withColumnRenamed(\"fastestLapSpeed\",\"fastest_lap_spedd\")\\\n",
    ".withColumn(\"ingestion_date\",current_timestamp())\n"
   ]
  },
  {
   "cell_type": "code",
   "execution_count": 20,
   "id": "092ac0b3",
   "metadata": {},
   "outputs": [
    {
     "name": "stdout",
     "output_type": "stream",
     "text": [
      "+---------+-------+---------+--------------+------+----+--------+-------------+--------------+------+----+-----------+------------+-----------+----+----------------+-----------------+--------+--------------------+\n",
      "|result_id|race_id|driver_id|constructor_id|number|grid|position|position_text|position_order|points|laps|       time|milliseconds|fastest_lap|rank|fastest_lap_time|fastest_lap_spedd|statusId|      ingestion_date|\n",
      "+---------+-------+---------+--------------+------+----+--------+-------------+--------------+------+----+-----------+------------+-----------+----+----------------+-----------------+--------+--------------------+\n",
      "|        1|     18|        1|             1|    22|   1|       1|            1|             1|  10.0|  58|1:34:50.616|     5690616|         39|   2|        1:27.452|            218.3|       1|2022-09-06 14:34:...|\n",
      "|        2|     18|        2|             2|     3|   5|       2|            2|             2|   8.0|  58|     +5.478|     5696094|         41|   3|        1:27.739|          217.586|       1|2022-09-06 14:34:...|\n",
      "|        3|     18|        3|             3|     7|   7|       3|            3|             3|   6.0|  58|     +8.163|     5698779|         41|   5|        1:28.090|          216.719|       1|2022-09-06 14:34:...|\n",
      "|        4|     18|        4|             4|     5|  11|       4|            4|             4|   5.0|  58|    +17.181|     5707797|         58|   7|        1:28.603|          215.464|       1|2022-09-06 14:34:...|\n",
      "|        5|     18|        5|             1|    23|   3|       5|            5|             5|   4.0|  58|    +18.014|     5708630|         43|   1|        1:27.418|          218.385|       1|2022-09-06 14:34:...|\n",
      "|        6|     18|        6|             3|     8|  13|       6|            6|             6|   3.0|  57|         \\N|        null|         50|  14|        1:29.639|          212.974|      11|2022-09-06 14:34:...|\n",
      "|        7|     18|        7|             5|    14|  17|       7|            7|             7|   2.0|  55|         \\N|        null|         22|  12|        1:29.534|          213.224|       5|2022-09-06 14:34:...|\n",
      "|        8|     18|        8|             6|     1|  15|       8|            8|             8|   1.0|  53|         \\N|        null|         20|   4|        1:27.903|           217.18|       5|2022-09-06 14:34:...|\n",
      "|        9|     18|        9|             2|     4|   2|    null|            R|             9|   0.0|  47|         \\N|        null|         15|   9|        1:28.753|            215.1|       4|2022-09-06 14:34:...|\n",
      "|       10|     18|       10|             7|    12|  18|    null|            R|            10|   0.0|  43|         \\N|        null|         23|  13|        1:29.558|          213.166|       3|2022-09-06 14:34:...|\n",
      "|       11|     18|       11|             8|    18|  19|    null|            R|            11|   0.0|  32|         \\N|        null|         24|  15|        1:30.892|          210.038|       7|2022-09-06 14:34:...|\n",
      "|       12|     18|       12|             4|     6|  20|    null|            R|            12|   0.0|  30|         \\N|        null|         20|  16|        1:31.384|          208.907|       8|2022-09-06 14:34:...|\n",
      "|       13|     18|       13|             6|     2|   4|    null|            R|            13|   0.0|  29|         \\N|        null|         23|   6|        1:28.175|           216.51|       5|2022-09-06 14:34:...|\n",
      "|       14|     18|       14|             9|     9|   8|    null|            R|            14|   0.0|  25|         \\N|        null|         21|  11|        1:29.502|            213.3|       4|2022-09-06 14:34:...|\n",
      "|       15|     18|       15|             7|    11|   6|    null|            R|            15|   0.0|  19|         \\N|        null|         18|  10|        1:29.310|          213.758|      10|2022-09-06 14:34:...|\n",
      "|       16|     18|       16|            10|    20|  22|    null|            R|            16|   0.0|   8|         \\N|        null|          8|  17|        1:32.021|          207.461|       9|2022-09-06 14:34:...|\n",
      "|       17|     18|       17|             9|    10|  14|    null|            R|            17|   0.0|   0|         \\N|        null|       null|null|              \\N|             null|       4|2022-09-06 14:34:...|\n",
      "|       18|     18|       18|            11|    16|  12|    null|            R|            18|   0.0|   0|         \\N|        null|       null|null|              \\N|             null|       4|2022-09-06 14:34:...|\n",
      "|       19|     18|       19|             8|    19|  21|    null|            R|            19|   0.0|   0|         \\N|        null|       null|null|              \\N|             null|       4|2022-09-06 14:34:...|\n",
      "|       20|     18|       20|             5|    15|   9|    null|            R|            20|   0.0|   0|         \\N|        null|       null|null|              \\N|             null|       4|2022-09-06 14:34:...|\n",
      "+---------+-------+---------+--------------+------+----+--------+-------------+--------------+------+----+-----------+------------+-----------+----+----------------+-----------------+--------+--------------------+\n",
      "only showing top 20 rows\n",
      "\n"
     ]
    }
   ],
   "source": [
    "results_with_columns_df.show()"
   ]
  },
  {
   "cell_type": "markdown",
   "id": "ad0dbf12",
   "metadata": {},
   "source": [
    "### Drop  the unwaned column"
   ]
  },
  {
   "cell_type": "code",
   "execution_count": 21,
   "id": "0fcdfa8a",
   "metadata": {},
   "outputs": [],
   "source": [
    "results_final_df=results_with_columns_df.drop(col(\"statusId\"))"
   ]
  },
  {
   "cell_type": "code",
   "execution_count": 22,
   "id": "65c9f69f",
   "metadata": {},
   "outputs": [
    {
     "name": "stdout",
     "output_type": "stream",
     "text": [
      "+---------+-------+---------+--------------+------+----+--------+-------------+--------------+------+----+-----------+------------+-----------+----+----------------+-----------------+--------------------+\n",
      "|result_id|race_id|driver_id|constructor_id|number|grid|position|position_text|position_order|points|laps|       time|milliseconds|fastest_lap|rank|fastest_lap_time|fastest_lap_spedd|      ingestion_date|\n",
      "+---------+-------+---------+--------------+------+----+--------+-------------+--------------+------+----+-----------+------------+-----------+----+----------------+-----------------+--------------------+\n",
      "|        1|     18|        1|             1|    22|   1|       1|            1|             1|  10.0|  58|1:34:50.616|     5690616|         39|   2|        1:27.452|            218.3|2022-09-06 14:43:...|\n",
      "|        2|     18|        2|             2|     3|   5|       2|            2|             2|   8.0|  58|     +5.478|     5696094|         41|   3|        1:27.739|          217.586|2022-09-06 14:43:...|\n",
      "|        3|     18|        3|             3|     7|   7|       3|            3|             3|   6.0|  58|     +8.163|     5698779|         41|   5|        1:28.090|          216.719|2022-09-06 14:43:...|\n",
      "|        4|     18|        4|             4|     5|  11|       4|            4|             4|   5.0|  58|    +17.181|     5707797|         58|   7|        1:28.603|          215.464|2022-09-06 14:43:...|\n",
      "|        5|     18|        5|             1|    23|   3|       5|            5|             5|   4.0|  58|    +18.014|     5708630|         43|   1|        1:27.418|          218.385|2022-09-06 14:43:...|\n",
      "|        6|     18|        6|             3|     8|  13|       6|            6|             6|   3.0|  57|         \\N|        null|         50|  14|        1:29.639|          212.974|2022-09-06 14:43:...|\n",
      "|        7|     18|        7|             5|    14|  17|       7|            7|             7|   2.0|  55|         \\N|        null|         22|  12|        1:29.534|          213.224|2022-09-06 14:43:...|\n",
      "|        8|     18|        8|             6|     1|  15|       8|            8|             8|   1.0|  53|         \\N|        null|         20|   4|        1:27.903|           217.18|2022-09-06 14:43:...|\n",
      "|        9|     18|        9|             2|     4|   2|    null|            R|             9|   0.0|  47|         \\N|        null|         15|   9|        1:28.753|            215.1|2022-09-06 14:43:...|\n",
      "|       10|     18|       10|             7|    12|  18|    null|            R|            10|   0.0|  43|         \\N|        null|         23|  13|        1:29.558|          213.166|2022-09-06 14:43:...|\n",
      "|       11|     18|       11|             8|    18|  19|    null|            R|            11|   0.0|  32|         \\N|        null|         24|  15|        1:30.892|          210.038|2022-09-06 14:43:...|\n",
      "|       12|     18|       12|             4|     6|  20|    null|            R|            12|   0.0|  30|         \\N|        null|         20|  16|        1:31.384|          208.907|2022-09-06 14:43:...|\n",
      "|       13|     18|       13|             6|     2|   4|    null|            R|            13|   0.0|  29|         \\N|        null|         23|   6|        1:28.175|           216.51|2022-09-06 14:43:...|\n",
      "|       14|     18|       14|             9|     9|   8|    null|            R|            14|   0.0|  25|         \\N|        null|         21|  11|        1:29.502|            213.3|2022-09-06 14:43:...|\n",
      "|       15|     18|       15|             7|    11|   6|    null|            R|            15|   0.0|  19|         \\N|        null|         18|  10|        1:29.310|          213.758|2022-09-06 14:43:...|\n",
      "|       16|     18|       16|            10|    20|  22|    null|            R|            16|   0.0|   8|         \\N|        null|          8|  17|        1:32.021|          207.461|2022-09-06 14:43:...|\n",
      "|       17|     18|       17|             9|    10|  14|    null|            R|            17|   0.0|   0|         \\N|        null|       null|null|              \\N|             null|2022-09-06 14:43:...|\n",
      "|       18|     18|       18|            11|    16|  12|    null|            R|            18|   0.0|   0|         \\N|        null|       null|null|              \\N|             null|2022-09-06 14:43:...|\n",
      "|       19|     18|       19|             8|    19|  21|    null|            R|            19|   0.0|   0|         \\N|        null|       null|null|              \\N|             null|2022-09-06 14:43:...|\n",
      "|       20|     18|       20|             5|    15|   9|    null|            R|            20|   0.0|   0|         \\N|        null|       null|null|              \\N|             null|2022-09-06 14:43:...|\n",
      "+---------+-------+---------+--------------+------+----+--------+-------------+--------------+------+----+-----------+------------+-----------+----+----------------+-----------------+--------------------+\n",
      "only showing top 20 rows\n",
      "\n"
     ]
    }
   ],
   "source": [
    "results_final_df.show()"
   ]
  },
  {
   "cell_type": "markdown",
   "id": "e8bdbe86",
   "metadata": {},
   "source": [
    "### Write to outpt to processed container in parque format"
   ]
  },
  {
   "cell_type": "code",
   "execution_count": 24,
   "id": "1130215e",
   "metadata": {},
   "outputs": [],
   "source": [
    "results_final_df.write.mode(\"overwrite\").partitionBy(\"race_id\").parquet('C:/Users/ACER/Documents/Burgo Juan/Udemi - Azure Databricks/results')"
   ]
  },
  {
   "cell_type": "code",
   "execution_count": 25,
   "id": "9891fe25",
   "metadata": {},
   "outputs": [
    {
     "name": "stdout",
     "output_type": "stream",
     "text": [
      "+---------+---------+--------------+------+----+--------+-------------+--------------+------+----+----------+------------+-----------+----+----------------+-----------------+--------------------+-------+\n",
      "|result_id|driver_id|constructor_id|number|grid|position|position_text|position_order|points|laps|      time|milliseconds|fastest_lap|rank|fastest_lap_time|fastest_lap_spedd|      ingestion_date|race_id|\n",
      "+---------+---------+--------------+------+----+--------+-------------+--------------+------+----+----------+------------+-----------+----+----------------+-----------------+--------------------+-------+\n",
      "|    19232|      657|           113|    14|  19|       1|            1|             1|   8.0| 200|3:49:17.27|    13757270|       null|null|              \\N|             null|2022-09-06 14:45:...|    800|\n",
      "|    19233|      525|           114|     9|   3|       2|            2|             2|   6.0| 200|  +1:09.95|    13827220|       null|null|              \\N|             null|2022-09-06 14:45:...|    800|\n",
      "|    19234|      658|           113|     2|   1|       3|            3|             3|   5.0| 200|  +1:19.73|    13837000|       null|null|              \\N|             null|2022-09-06 14:45:...|    800|\n",
      "|    19235|      526|           113|    34|  11|       4|            4|             4|   1.5| 200|  +2:52.68|    13929950|       null|null|              \\N|             null|2022-09-06 14:45:...|    800|\n",
      "|    19236|      673|           113|    73|  14|       5|            5|             5|   2.0| 200|  +3:24.55|    13961820|       null|null|              \\N|             null|2022-09-06 14:45:...|    800|\n",
      "|    19237|      615|           113|    77|  24|       6|            6|             6|   0.0| 200|  +3:47.55|    13984820|       null|null|              \\N|             null|2022-09-06 14:45:...|    800|\n",
      "|    19238|      528|           109|     7|   6|       7|            7|             7|   0.0| 200|  +4:13.35|    14010620|       null|null|              \\N|             null|2022-09-06 14:45:...|    800|\n",
      "|    19239|      555|           113|     5|  32|       8|            8|             8|   0.0| 200|  +5:01.17|    14058440|       null|null|              \\N|             null|2022-09-06 14:45:...|    800|\n",
      "|    19240|      674|           113|    28|  25|       9|            9|             9|   0.0| 200|  +7:07.24|    14184510|       null|null|              \\N|             null|2022-09-06 14:45:...|    800|\n",
      "|    19241|      655|           129|    24|  13|      10|           10|            10|   0.0| 200|  +7:07.69|    14184960|       null|null|              \\N|             null|2022-09-06 14:45:...|    800|\n",
      "|    19242|      656|           113|    45|  27|      11|           11|            11|   0.0| 200|  +8:22.19|    14259460|       null|null|              \\N|             null|2022-09-06 14:45:...|    800|\n",
      "|    19243|      521|           114|    98|   5|      12|           12|            12|   0.0| 199|        \\N|        null|       null|null|              \\N|             null|2022-09-06 14:45:...|    800|\n",
      "|    19244|      675|           114|    88|  22|      13|           13|            13|   0.0| 197|        \\N|        null|       null|null|              \\N|             null|2022-09-06 14:45:...|    800|\n",
      "|    19245|      628|           113|    17|   9|      14|           14|            14|   0.0| 197|        \\N|        null|       null|null|              \\N|             null|2022-09-06 14:45:...|    800|\n",
      "|    19246|      518|           113|    16|   8|      15|           15|            15|   0.0| 196|        \\N|        null|       null|null|              \\N|             null|2022-09-06 14:45:...|    800|\n",
      "|    19247|      679|           113|    32|  20|      16|           16|            16|   0.0| 194|        \\N|        null|       null|null|              \\N|             null|2022-09-06 14:45:...|    800|\n",
      "|    19248|      592|           136|    25|   7|      17|           17|            17|   0.0| 194|        \\N|        null|       null|null|              \\N|             null|2022-09-06 14:45:...|    800|\n",
      "|    19249|      596|           129|    27|  31|      18|           18|            18|   0.0| 193|        \\N|        null|       null|null|              \\N|             null|2022-09-06 14:45:...|    800|\n",
      "|    19250|      676|           113|    71|  33|      19|           19|            19|   0.0| 193|        \\N|        null|       null|null|              \\N|             null|2022-09-06 14:45:...|    800|\n",
      "|    19251|      611|           113|     1|  10|    null|            R|            20|   0.0| 191|        \\N|        null|       null|null|              \\N|             null|2022-09-06 14:45:...|    800|\n",
      "+---------+---------+--------------+------+----+--------+-------------+--------------+------+----+----------+------------+-----------+----+----------------+-----------------+--------------------+-------+\n",
      "only showing top 20 rows\n",
      "\n"
     ]
    }
   ],
   "source": [
    "spark.read.parquet('C:/Users/ACER/Documents/Burgo Juan/Udemi - Azure Databricks/results').show()"
   ]
  },
  {
   "cell_type": "code",
   "execution_count": null,
   "id": "dd3123a5",
   "metadata": {},
   "outputs": [],
   "source": []
  }
 ],
 "metadata": {
  "kernelspec": {
   "display_name": "Python 3",
   "language": "python",
   "name": "python3"
  },
  "language_info": {
   "codemirror_mode": {
    "name": "ipython",
    "version": 3
   },
   "file_extension": ".py",
   "mimetype": "text/x-python",
   "name": "python",
   "nbconvert_exporter": "python",
   "pygments_lexer": "ipython3",
   "version": "3.8.8"
  }
 },
 "nbformat": 4,
 "nbformat_minor": 5
}
