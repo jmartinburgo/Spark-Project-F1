{
 "cells": [
  {
   "cell_type": "code",
   "execution_count": 1,
   "id": "55990e0e",
   "metadata": {},
   "outputs": [
    {
     "name": "stdout",
     "output_type": "stream",
     "text": [
      "+-----+\n",
      "|hello|\n",
      "+-----+\n",
      "|spark|\n",
      "+-----+\n",
      "\n"
     ]
    }
   ],
   "source": [
    "import findspark\n",
    "findspark.init()\n",
    "\n",
    "import pyspark # only run after findspark.init()\n",
    "from pyspark.sql import SparkSession\n",
    "spark = SparkSession.builder.getOrCreate()\n",
    "\n",
    "df = spark.sql('''select 'spark' as hello ''')\n",
    "df.show()"
   ]
  },
  {
   "cell_type": "code",
   "execution_count": 3,
   "id": "b86801d8",
   "metadata": {},
   "outputs": [],
   "source": [
    "from pyspark.sql.types import StructType,StructField, IntegerType, StringType,DoubleType"
   ]
  },
  {
   "cell_type": "code",
   "execution_count": 4,
   "id": "894cd7c4",
   "metadata": {},
   "outputs": [],
   "source": [
    "circuits_schema = StructType(fields=[StructField(\"circuitId\",IntegerType(),False),\n",
    "                                     StructField(\"circuitRef\",StringType(),True),\n",
    "                                     StructField(\"name\",StringType(),True),\n",
    "                                     StructField(\"Location\",StringType(),True),\n",
    "                                     StructField(\"country\",StringType(),True),\n",
    "                                     StructField(\"lat\",DoubleType(),True),\n",
    "                                     StructField(\"lng\",DoubleType(),True),\n",
    "                                     StructField(\"alt\",IntegerType(),True),\n",
    "                                     StructField(\"url\",StringType(),True)                                     \n",
    "                                    ])"
   ]
  },
  {
   "cell_type": "code",
   "execution_count": 6,
   "id": "c3a4fdae",
   "metadata": {},
   "outputs": [],
   "source": [
    "# circuits_df = spark.read.option('header',True).option('inferSchema',True).csv('C:/Users/ACER/Documents/Burgo Juan/Udemi - Azure Databricks/circuits.csv')\n",
    "# Con esta Opcion inferimos un Schema automatico, pero vamos a utilizar el Schema creado para asignar los tipos de datos \n",
    "\n",
    "circuits_df = spark.read.option('header',True).schema(circuits_schema).csv('C:/Users/ACER/Documents/Burgo Juan/Udemi - Azure Databricks/circuits.csv')"
   ]
  },
  {
   "cell_type": "code",
   "execution_count": 8,
   "id": "34420a74",
   "metadata": {},
   "outputs": [
    {
     "data": {
      "text/plain": [
       "DataFrame[circuitId: int, circuitRef: string, name: string, Location: string, country: string, lat: double, lng: double, alt: int, url: string]"
      ]
     },
     "metadata": {},
     "output_type": "display_data"
    }
   ],
   "source": [
    "display(circuits_df)"
   ]
  },
  {
   "cell_type": "code",
   "execution_count": 9,
   "id": "ec4c11e5",
   "metadata": {},
   "outputs": [
    {
     "name": "stdout",
     "output_type": "stream",
     "text": [
      "+---------+--------------+--------------------+------------+---------+--------+---------+---+--------------------+\n",
      "|circuitId|    circuitRef|                name|    Location|  country|     lat|      lng|alt|                 url|\n",
      "+---------+--------------+--------------------+------------+---------+--------+---------+---+--------------------+\n",
      "|        1|   albert_park|Albert Park Grand...|   Melbourne|Australia|-37.8497|  144.968| 10|http://en.wikiped...|\n",
      "|        2|        sepang|Sepang Internatio...|Kuala Lumpur| Malaysia| 2.76083|  101.738| 18|http://en.wikiped...|\n",
      "|        3|       bahrain|Bahrain Internati...|      Sakhir|  Bahrain| 26.0325|  50.5106|  7|http://en.wikiped...|\n",
      "|        4|     catalunya|Circuit de Barcel...|    Montmeló|    Spain|   41.57|  2.26111|109|http://en.wikiped...|\n",
      "|        5|      istanbul|       Istanbul Park|    Istanbul|   Turkey| 40.9517|   29.405|130|http://en.wikiped...|\n",
      "|        6|        monaco|   Circuit de Monaco| Monte-Carlo|   Monaco| 43.7347|  7.42056|  7|http://en.wikiped...|\n",
      "|        7|    villeneuve|Circuit Gilles Vi...|    Montreal|   Canada|    45.5| -73.5228| 13|http://en.wikiped...|\n",
      "|        8|   magny_cours|Circuit de Nevers...| Magny Cours|   France| 46.8642|  3.16361|228|http://en.wikiped...|\n",
      "|        9|   silverstone| Silverstone Circuit| Silverstone|       UK| 52.0786| -1.01694|153|http://en.wikiped...|\n",
      "|       10|hockenheimring|      Hockenheimring|  Hockenheim|  Germany| 49.3278|  8.56583|103|http://en.wikiped...|\n",
      "|       11|   hungaroring|         Hungaroring|    Budapest|  Hungary| 47.5789|  19.2486|264|http://en.wikiped...|\n",
      "|       12|      valencia|Valencia Street C...|    Valencia|    Spain| 39.4589|-0.331667|  4|http://en.wikiped...|\n",
      "|       13|           spa|Circuit de Spa-Fr...|         Spa|  Belgium| 50.4372|  5.97139|401|http://en.wikiped...|\n",
      "|       14|         monza|Autodromo Naziona...|       Monza|    Italy| 45.6156|  9.28111|162|http://en.wikiped...|\n",
      "|       15|    marina_bay|Marina Bay Street...|  Marina Bay|Singapore|  1.2914|  103.864| 18|http://en.wikiped...|\n",
      "|       16|          fuji|       Fuji Speedway|       Oyama|    Japan| 35.3717|  138.927|583|http://en.wikiped...|\n",
      "|       17|      shanghai|Shanghai Internat...|    Shanghai|    China| 31.3389|   121.22|  5|http://en.wikiped...|\n",
      "|       18|    interlagos|Autódromo José Ca...|   São Paulo|   Brazil|-23.7036| -46.6997|785|http://en.wikiped...|\n",
      "|       19|  indianapolis|Indianapolis Moto...|Indianapolis|      USA|  39.795| -86.2347|223|http://en.wikiped...|\n",
      "|       20|   nurburgring|         Nürburgring|     Nürburg|  Germany| 50.3356|   6.9475|578|http://en.wikiped...|\n",
      "+---------+--------------+--------------------+------------+---------+--------+---------+---+--------------------+\n",
      "only showing top 20 rows\n",
      "\n"
     ]
    }
   ],
   "source": [
    "circuits_df.show()"
   ]
  },
  {
   "cell_type": "code",
   "execution_count": 10,
   "id": "2fa505dc",
   "metadata": {},
   "outputs": [
    {
     "name": "stdout",
     "output_type": "stream",
     "text": [
      "root\n",
      " |-- circuitId: integer (nullable = true)\n",
      " |-- circuitRef: string (nullable = true)\n",
      " |-- name: string (nullable = true)\n",
      " |-- Location: string (nullable = true)\n",
      " |-- country: string (nullable = true)\n",
      " |-- lat: double (nullable = true)\n",
      " |-- lng: double (nullable = true)\n",
      " |-- alt: integer (nullable = true)\n",
      " |-- url: string (nullable = true)\n",
      "\n"
     ]
    }
   ],
   "source": [
    "circuits_df.printSchema()"
   ]
  },
  {
   "cell_type": "code",
   "execution_count": 11,
   "id": "c715b5ee",
   "metadata": {},
   "outputs": [
    {
     "name": "stdout",
     "output_type": "stream",
     "text": [
      "+-------+------------------+----------+-------+---------+---------+------------------+-----------------+-----------------+--------------------+\n",
      "|summary|         circuitId|circuitRef|   name| Location|  country|               lat|              lng|              alt|                 url|\n",
      "+-------+------------------+----------+-------+---------+---------+------------------+-----------------+-----------------+--------------------+\n",
      "|  count|                77|        77|     77|       77|       77|                77|               77|               77|                  77|\n",
      "|   mean|              39.0|      null|   null|     null|     null| 33.72035103896102|3.551302597402597|247.4935064935065|                null|\n",
      "| stddev|22.371857321197094|      null|   null|     null|     null|22.885969000074535| 64.8766790440326|363.2672505910991|                null|\n",
      "|    min|                 1|       BAK|A1-Ring|Abu Dhabi|Argentina|          -37.8497|         -118.189|               -7|http://en.wikiped...|\n",
      "|    max|                77|    zolder| Zolder|Zandvoort|  Vietnam|           57.2653|          144.968|             2227|http://en.wikiped...|\n",
      "+-------+------------------+----------+-------+---------+---------+------------------+-----------------+-----------------+--------------------+\n",
      "\n"
     ]
    }
   ],
   "source": [
    "circuits_df.describe().show()"
   ]
  },
  {
   "cell_type": "markdown",
   "id": "7ba2a0fd",
   "metadata": {},
   "source": [
    "### Select Columns\n"
   ]
  },
  {
   "cell_type": "code",
   "execution_count": 26,
   "id": "0f06b666",
   "metadata": {},
   "outputs": [],
   "source": [
    "#circuits_selected_df= circuits_df.select(\"circuitId\",\"circuitRef\",\"name\",\"location\",\"country\",\"lat\",\"lng\",\"alt\")\n",
    "# Otra forma de hacer los mismo seria \n",
    "#circuits_selected_df= circuits_df.select(circuits_df[\"circuitId\"],circuits_df[\"circuitRef\"],circuits_df[\"name\"],circuits_df[\"location\"],circuits_df[\"country\"],circuits_df[\"lat\"],circuits_df[\"lng\"],circuits_df[\"alt\"])\n",
    "# Otra forma:"
   ]
  },
  {
   "cell_type": "code",
   "execution_count": 29,
   "id": "1285cc1f",
   "metadata": {},
   "outputs": [],
   "source": [
    "from pyspark.sql.functions import col"
   ]
  },
  {
   "cell_type": "code",
   "execution_count": 37,
   "id": "80f2c092",
   "metadata": {},
   "outputs": [],
   "source": [
    "circuits_selected_df= circuits_df.select(col(\"circuitId\"),col(\"circuitRef\"),col(\"name\"),col(\"location\"),col(\"country\"),col(\"lat\"),col(\"lng\"),col(\"alt\"))\n",
    "#con .alias () le asigno un nombre a la columna"
   ]
  },
  {
   "cell_type": "code",
   "execution_count": 38,
   "id": "1b32b38b",
   "metadata": {},
   "outputs": [
    {
     "data": {
      "text/plain": [
       "DataFrame[circuitId: int, circuitRef: string, name: string, location: string, country: string, lat: double, lng: double, alt: int]"
      ]
     },
     "metadata": {},
     "output_type": "display_data"
    }
   ],
   "source": [
    "display(circuits_selected_df)"
   ]
  },
  {
   "cell_type": "code",
   "execution_count": 39,
   "id": "49a67bd2",
   "metadata": {},
   "outputs": [
    {
     "name": "stdout",
     "output_type": "stream",
     "text": [
      "+---------+--------------+--------------------+------------+---------+--------+---------+---+\n",
      "|circuitId|    circuitRef|                name|    location|  country|     lat|      lng|alt|\n",
      "+---------+--------------+--------------------+------------+---------+--------+---------+---+\n",
      "|        1|   albert_park|Albert Park Grand...|   Melbourne|Australia|-37.8497|  144.968| 10|\n",
      "|        2|        sepang|Sepang Internatio...|Kuala Lumpur| Malaysia| 2.76083|  101.738| 18|\n",
      "|        3|       bahrain|Bahrain Internati...|      Sakhir|  Bahrain| 26.0325|  50.5106|  7|\n",
      "|        4|     catalunya|Circuit de Barcel...|    Montmeló|    Spain|   41.57|  2.26111|109|\n",
      "|        5|      istanbul|       Istanbul Park|    Istanbul|   Turkey| 40.9517|   29.405|130|\n",
      "|        6|        monaco|   Circuit de Monaco| Monte-Carlo|   Monaco| 43.7347|  7.42056|  7|\n",
      "|        7|    villeneuve|Circuit Gilles Vi...|    Montreal|   Canada|    45.5| -73.5228| 13|\n",
      "|        8|   magny_cours|Circuit de Nevers...| Magny Cours|   France| 46.8642|  3.16361|228|\n",
      "|        9|   silverstone| Silverstone Circuit| Silverstone|       UK| 52.0786| -1.01694|153|\n",
      "|       10|hockenheimring|      Hockenheimring|  Hockenheim|  Germany| 49.3278|  8.56583|103|\n",
      "|       11|   hungaroring|         Hungaroring|    Budapest|  Hungary| 47.5789|  19.2486|264|\n",
      "|       12|      valencia|Valencia Street C...|    Valencia|    Spain| 39.4589|-0.331667|  4|\n",
      "|       13|           spa|Circuit de Spa-Fr...|         Spa|  Belgium| 50.4372|  5.97139|401|\n",
      "|       14|         monza|Autodromo Naziona...|       Monza|    Italy| 45.6156|  9.28111|162|\n",
      "|       15|    marina_bay|Marina Bay Street...|  Marina Bay|Singapore|  1.2914|  103.864| 18|\n",
      "|       16|          fuji|       Fuji Speedway|       Oyama|    Japan| 35.3717|  138.927|583|\n",
      "|       17|      shanghai|Shanghai Internat...|    Shanghai|    China| 31.3389|   121.22|  5|\n",
      "|       18|    interlagos|Autódromo José Ca...|   São Paulo|   Brazil|-23.7036| -46.6997|785|\n",
      "|       19|  indianapolis|Indianapolis Moto...|Indianapolis|      USA|  39.795| -86.2347|223|\n",
      "|       20|   nurburgring|         Nürburgring|     Nürburg|  Germany| 50.3356|   6.9475|578|\n",
      "+---------+--------------+--------------------+------------+---------+--------+---------+---+\n",
      "only showing top 20 rows\n",
      "\n"
     ]
    }
   ],
   "source": [
    "circuits_selected_df.show()"
   ]
  },
  {
   "cell_type": "markdown",
   "id": "c79f990c",
   "metadata": {},
   "source": [
    "### Rename"
   ]
  },
  {
   "cell_type": "code",
   "execution_count": 40,
   "id": "df334cf3",
   "metadata": {},
   "outputs": [],
   "source": [
    "circuits_renamed_df = circuits_selected_df.withColumnRenamed(\"circuitId\",\"circuit_id\").withColumnRenamed(\"circuitRef\",\"circuit_ref\").withColumnRenamed(\"lat\",\"latitude\").withColumnRenamed(\"lng\",\"longitude\").withColumnRenamed(\"alt\",\"altitude\")"
   ]
  },
  {
   "cell_type": "code",
   "execution_count": 41,
   "id": "b8944d91",
   "metadata": {
    "scrolled": false
   },
   "outputs": [
    {
     "name": "stdout",
     "output_type": "stream",
     "text": [
      "+----------+--------------+--------------------+------------+---------+--------+---------+--------+\n",
      "|circuit_id|   circuit_ref|                name|    location|  country|latitude|longitude|altitude|\n",
      "+----------+--------------+--------------------+------------+---------+--------+---------+--------+\n",
      "|         1|   albert_park|Albert Park Grand...|   Melbourne|Australia|-37.8497|  144.968|      10|\n",
      "|         2|        sepang|Sepang Internatio...|Kuala Lumpur| Malaysia| 2.76083|  101.738|      18|\n",
      "|         3|       bahrain|Bahrain Internati...|      Sakhir|  Bahrain| 26.0325|  50.5106|       7|\n",
      "|         4|     catalunya|Circuit de Barcel...|    Montmeló|    Spain|   41.57|  2.26111|     109|\n",
      "|         5|      istanbul|       Istanbul Park|    Istanbul|   Turkey| 40.9517|   29.405|     130|\n",
      "|         6|        monaco|   Circuit de Monaco| Monte-Carlo|   Monaco| 43.7347|  7.42056|       7|\n",
      "|         7|    villeneuve|Circuit Gilles Vi...|    Montreal|   Canada|    45.5| -73.5228|      13|\n",
      "|         8|   magny_cours|Circuit de Nevers...| Magny Cours|   France| 46.8642|  3.16361|     228|\n",
      "|         9|   silverstone| Silverstone Circuit| Silverstone|       UK| 52.0786| -1.01694|     153|\n",
      "|        10|hockenheimring|      Hockenheimring|  Hockenheim|  Germany| 49.3278|  8.56583|     103|\n",
      "|        11|   hungaroring|         Hungaroring|    Budapest|  Hungary| 47.5789|  19.2486|     264|\n",
      "|        12|      valencia|Valencia Street C...|    Valencia|    Spain| 39.4589|-0.331667|       4|\n",
      "|        13|           spa|Circuit de Spa-Fr...|         Spa|  Belgium| 50.4372|  5.97139|     401|\n",
      "|        14|         monza|Autodromo Naziona...|       Monza|    Italy| 45.6156|  9.28111|     162|\n",
      "|        15|    marina_bay|Marina Bay Street...|  Marina Bay|Singapore|  1.2914|  103.864|      18|\n",
      "|        16|          fuji|       Fuji Speedway|       Oyama|    Japan| 35.3717|  138.927|     583|\n",
      "|        17|      shanghai|Shanghai Internat...|    Shanghai|    China| 31.3389|   121.22|       5|\n",
      "|        18|    interlagos|Autódromo José Ca...|   São Paulo|   Brazil|-23.7036| -46.6997|     785|\n",
      "|        19|  indianapolis|Indianapolis Moto...|Indianapolis|      USA|  39.795| -86.2347|     223|\n",
      "|        20|   nurburgring|         Nürburgring|     Nürburg|  Germany| 50.3356|   6.9475|     578|\n",
      "+----------+--------------+--------------------+------------+---------+--------+---------+--------+\n",
      "only showing top 20 rows\n",
      "\n"
     ]
    }
   ],
   "source": [
    "circuits_renamed_df.show()"
   ]
  },
  {
   "cell_type": "code",
   "execution_count": 46,
   "id": "8592b8f1",
   "metadata": {},
   "outputs": [],
   "source": [
    "from pyspark.sql.functions import current_timestamp\n",
    "from pyspark.sql.functions import lit"
   ]
  },
  {
   "cell_type": "code",
   "execution_count": 49,
   "id": "e2f03360",
   "metadata": {},
   "outputs": [],
   "source": [
    "#circuit_final_df = circuits_renamed_df.withColumn(\"ingestion_date\",current_timestamp()).withColumn(\"env\",lit(\"production\"))\n",
    "# Como solo vamos a agregar el timestamp, entonces:\n",
    "circuit_final_df = circuits_renamed_df.withColumn(\"ingestion_date\",current_timestamp())"
   ]
  },
  {
   "cell_type": "code",
   "execution_count": 50,
   "id": "deeee3d6",
   "metadata": {},
   "outputs": [
    {
     "name": "stdout",
     "output_type": "stream",
     "text": [
      "+----------+--------------+--------------------+------------+---------+--------+---------+--------+--------------------+\n",
      "|circuit_id|   circuit_ref|                name|    location|  country|latitude|longitude|altitude|      ingestion_date|\n",
      "+----------+--------------+--------------------+------------+---------+--------+---------+--------+--------------------+\n",
      "|         1|   albert_park|Albert Park Grand...|   Melbourne|Australia|-37.8497|  144.968|      10|2022-08-23 16:49:...|\n",
      "|         2|        sepang|Sepang Internatio...|Kuala Lumpur| Malaysia| 2.76083|  101.738|      18|2022-08-23 16:49:...|\n",
      "|         3|       bahrain|Bahrain Internati...|      Sakhir|  Bahrain| 26.0325|  50.5106|       7|2022-08-23 16:49:...|\n",
      "|         4|     catalunya|Circuit de Barcel...|    Montmeló|    Spain|   41.57|  2.26111|     109|2022-08-23 16:49:...|\n",
      "|         5|      istanbul|       Istanbul Park|    Istanbul|   Turkey| 40.9517|   29.405|     130|2022-08-23 16:49:...|\n",
      "|         6|        monaco|   Circuit de Monaco| Monte-Carlo|   Monaco| 43.7347|  7.42056|       7|2022-08-23 16:49:...|\n",
      "|         7|    villeneuve|Circuit Gilles Vi...|    Montreal|   Canada|    45.5| -73.5228|      13|2022-08-23 16:49:...|\n",
      "|         8|   magny_cours|Circuit de Nevers...| Magny Cours|   France| 46.8642|  3.16361|     228|2022-08-23 16:49:...|\n",
      "|         9|   silverstone| Silverstone Circuit| Silverstone|       UK| 52.0786| -1.01694|     153|2022-08-23 16:49:...|\n",
      "|        10|hockenheimring|      Hockenheimring|  Hockenheim|  Germany| 49.3278|  8.56583|     103|2022-08-23 16:49:...|\n",
      "|        11|   hungaroring|         Hungaroring|    Budapest|  Hungary| 47.5789|  19.2486|     264|2022-08-23 16:49:...|\n",
      "|        12|      valencia|Valencia Street C...|    Valencia|    Spain| 39.4589|-0.331667|       4|2022-08-23 16:49:...|\n",
      "|        13|           spa|Circuit de Spa-Fr...|         Spa|  Belgium| 50.4372|  5.97139|     401|2022-08-23 16:49:...|\n",
      "|        14|         monza|Autodromo Naziona...|       Monza|    Italy| 45.6156|  9.28111|     162|2022-08-23 16:49:...|\n",
      "|        15|    marina_bay|Marina Bay Street...|  Marina Bay|Singapore|  1.2914|  103.864|      18|2022-08-23 16:49:...|\n",
      "|        16|          fuji|       Fuji Speedway|       Oyama|    Japan| 35.3717|  138.927|     583|2022-08-23 16:49:...|\n",
      "|        17|      shanghai|Shanghai Internat...|    Shanghai|    China| 31.3389|   121.22|       5|2022-08-23 16:49:...|\n",
      "|        18|    interlagos|Autódromo José Ca...|   São Paulo|   Brazil|-23.7036| -46.6997|     785|2022-08-23 16:49:...|\n",
      "|        19|  indianapolis|Indianapolis Moto...|Indianapolis|      USA|  39.795| -86.2347|     223|2022-08-23 16:49:...|\n",
      "|        20|   nurburgring|         Nürburgring|     Nürburg|  Germany| 50.3356|   6.9475|     578|2022-08-23 16:49:...|\n",
      "+----------+--------------+--------------------+------------+---------+--------+---------+--------+--------------------+\n",
      "only showing top 20 rows\n",
      "\n"
     ]
    }
   ],
   "source": [
    "circuit_final_df.show()"
   ]
  },
  {
   "cell_type": "markdown",
   "id": "b3a26e10",
   "metadata": {},
   "source": [
    "### Write data to Datalake as parquet"
   ]
  },
  {
   "cell_type": "code",
   "execution_count": 58,
   "id": "5bf82dfa",
   "metadata": {},
   "outputs": [],
   "source": [
    "#circuit_final_df.write.parquet('C:/Users/ACER/Documents/Burgo Juan/Udemi - Azure Databricks/circuits')\n",
    "#Se pone overwrite por que si no lanza error por que ya existe el archivo\n",
    "circuit_final_df.write.mode(\"overwrite\").parquet('C:/Users/ACER/Documents/Burgo Juan/Udemi - Azure Databricks/circuits')"
   ]
  },
  {
   "cell_type": "code",
   "execution_count": 56,
   "id": "86f8682b",
   "metadata": {},
   "outputs": [],
   "source": [
    "df=spark.read.parquet('C:/Users/ACER/Documents/Burgo Juan/Udemi - Azure Databricks/circuits')"
   ]
  },
  {
   "cell_type": "code",
   "execution_count": 57,
   "id": "89b3a78a",
   "metadata": {},
   "outputs": [
    {
     "name": "stdout",
     "output_type": "stream",
     "text": [
      "+----------+--------------+--------------------+------------+---------+--------+---------+--------+--------------------+\n",
      "|circuit_id|   circuit_ref|                name|    location|  country|latitude|longitude|altitude|      ingestion_date|\n",
      "+----------+--------------+--------------------+------------+---------+--------+---------+--------+--------------------+\n",
      "|         1|   albert_park|Albert Park Grand...|   Melbourne|Australia|-37.8497|  144.968|      10|2022-08-23 17:08:...|\n",
      "|         2|        sepang|Sepang Internatio...|Kuala Lumpur| Malaysia| 2.76083|  101.738|      18|2022-08-23 17:08:...|\n",
      "|         3|       bahrain|Bahrain Internati...|      Sakhir|  Bahrain| 26.0325|  50.5106|       7|2022-08-23 17:08:...|\n",
      "|         4|     catalunya|Circuit de Barcel...|    Montmeló|    Spain|   41.57|  2.26111|     109|2022-08-23 17:08:...|\n",
      "|         5|      istanbul|       Istanbul Park|    Istanbul|   Turkey| 40.9517|   29.405|     130|2022-08-23 17:08:...|\n",
      "|         6|        monaco|   Circuit de Monaco| Monte-Carlo|   Monaco| 43.7347|  7.42056|       7|2022-08-23 17:08:...|\n",
      "|         7|    villeneuve|Circuit Gilles Vi...|    Montreal|   Canada|    45.5| -73.5228|      13|2022-08-23 17:08:...|\n",
      "|         8|   magny_cours|Circuit de Nevers...| Magny Cours|   France| 46.8642|  3.16361|     228|2022-08-23 17:08:...|\n",
      "|         9|   silverstone| Silverstone Circuit| Silverstone|       UK| 52.0786| -1.01694|     153|2022-08-23 17:08:...|\n",
      "|        10|hockenheimring|      Hockenheimring|  Hockenheim|  Germany| 49.3278|  8.56583|     103|2022-08-23 17:08:...|\n",
      "|        11|   hungaroring|         Hungaroring|    Budapest|  Hungary| 47.5789|  19.2486|     264|2022-08-23 17:08:...|\n",
      "|        12|      valencia|Valencia Street C...|    Valencia|    Spain| 39.4589|-0.331667|       4|2022-08-23 17:08:...|\n",
      "|        13|           spa|Circuit de Spa-Fr...|         Spa|  Belgium| 50.4372|  5.97139|     401|2022-08-23 17:08:...|\n",
      "|        14|         monza|Autodromo Naziona...|       Monza|    Italy| 45.6156|  9.28111|     162|2022-08-23 17:08:...|\n",
      "|        15|    marina_bay|Marina Bay Street...|  Marina Bay|Singapore|  1.2914|  103.864|      18|2022-08-23 17:08:...|\n",
      "|        16|          fuji|       Fuji Speedway|       Oyama|    Japan| 35.3717|  138.927|     583|2022-08-23 17:08:...|\n",
      "|        17|      shanghai|Shanghai Internat...|    Shanghai|    China| 31.3389|   121.22|       5|2022-08-23 17:08:...|\n",
      "|        18|    interlagos|Autódromo José Ca...|   São Paulo|   Brazil|-23.7036| -46.6997|     785|2022-08-23 17:08:...|\n",
      "|        19|  indianapolis|Indianapolis Moto...|Indianapolis|      USA|  39.795| -86.2347|     223|2022-08-23 17:08:...|\n",
      "|        20|   nurburgring|         Nürburgring|     Nürburg|  Germany| 50.3356|   6.9475|     578|2022-08-23 17:08:...|\n",
      "+----------+--------------+--------------------+------------+---------+--------+---------+--------+--------------------+\n",
      "only showing top 20 rows\n",
      "\n"
     ]
    }
   ],
   "source": [
    "df.show()"
   ]
  },
  {
   "cell_type": "code",
   "execution_count": null,
   "id": "d81302da",
   "metadata": {},
   "outputs": [],
   "source": []
  }
 ],
 "metadata": {
  "kernelspec": {
   "display_name": "Python 3",
   "language": "python",
   "name": "python3"
  },
  "language_info": {
   "codemirror_mode": {
    "name": "ipython",
    "version": 3
   },
   "file_extension": ".py",
   "mimetype": "text/x-python",
   "name": "python",
   "nbconvert_exporter": "python",
   "pygments_lexer": "ipython3",
   "version": "3.8.8"
  }
 },
 "nbformat": 4,
 "nbformat_minor": 5
}
