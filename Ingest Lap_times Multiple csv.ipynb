{
 "cells": [
  {
   "cell_type": "code",
   "execution_count": 1,
   "id": "2ee89ad9",
   "metadata": {},
   "outputs": [],
   "source": [
    "import findspark\n",
    "findspark.init\n",
    "\n",
    "import pyspark\n",
    "from pyspark.sql import SparkSession\n",
    "spark = SparkSession.builder.getOrCreate()"
   ]
  },
  {
   "cell_type": "markdown",
   "id": "b9ad7213",
   "metadata": {},
   "source": [
    "### Read Csv file using dataframe reader API"
   ]
  },
  {
   "cell_type": "code",
   "execution_count": 2,
   "id": "e9ea4200",
   "metadata": {},
   "outputs": [],
   "source": [
    "from pyspark.sql.types import StructType, StructField, StringType, IntegerType, FloatType"
   ]
  },
  {
   "cell_type": "code",
   "execution_count": 3,
   "id": "44a36a15",
   "metadata": {},
   "outputs": [],
   "source": [
    "lap_times_schema = StructType(fields=[StructField(\"raceId\",IntegerType(),False),\n",
    "                                      StructField(\"driverId\",IntegerType(),True),\n",
    "                                      StructField(\"lap\",IntegerType(),True),\n",
    "                                      StructField(\"position\",IntegerType(),True),\n",
    "                                      StructField(\"time\",StringType(),True),\n",
    "                                      StructField(\"milliseconds\",IntegerType(),True),\n",
    "    \n",
    "])"
   ]
  },
  {
   "cell_type": "code",
   "execution_count": 6,
   "id": "3d8693fb",
   "metadata": {},
   "outputs": [],
   "source": [
    "#lap_time_df= spark.read.schema(lap_times_schema).csv('C:/Users/ACER/Documents/Burgo Juan/Udemi - Azure Databricks/lap_times/lap_times_split*.csv')\n",
    "#Como en la carpeta solo tenemos los archivos que necesitamos entonces podemos hacer directamente:\n",
    "lap_time_df= spark.read.schema(lap_times_schema).csv('C:/Users/ACER/Documents/Burgo Juan/Udemi - Azure Databricks/lap_times')"
   ]
  },
  {
   "cell_type": "code",
   "execution_count": 7,
   "id": "826beea9",
   "metadata": {},
   "outputs": [
    {
     "name": "stdout",
     "output_type": "stream",
     "text": [
      "+------+--------+---+--------+--------+------------+\n",
      "|raceId|driverId|lap|position|    time|milliseconds|\n",
      "+------+--------+---+--------+--------+------------+\n",
      "|   841|      20|  1|       1|1:38.109|       98109|\n",
      "|   841|      20|  2|       1|1:33.006|       93006|\n",
      "|   841|      20|  3|       1|1:32.713|       92713|\n",
      "|   841|      20|  4|       1|1:32.803|       92803|\n",
      "|   841|      20|  5|       1|1:32.342|       92342|\n",
      "|   841|      20|  6|       1|1:32.605|       92605|\n",
      "|   841|      20|  7|       1|1:32.502|       92502|\n",
      "|   841|      20|  8|       1|1:32.537|       92537|\n",
      "|   841|      20|  9|       1|1:33.240|       93240|\n",
      "|   841|      20| 10|       1|1:32.572|       92572|\n",
      "|   841|      20| 11|       1|1:32.669|       92669|\n",
      "|   841|      20| 12|       1|1:32.902|       92902|\n",
      "|   841|      20| 13|       1|1:33.698|       93698|\n",
      "|   841|      20| 14|       3|1:52.075|      112075|\n",
      "|   841|      20| 15|       4|1:38.385|       98385|\n",
      "|   841|      20| 16|       2|1:31.548|       91548|\n",
      "|   841|      20| 17|       1|1:30.800|       90800|\n",
      "|   841|      20| 18|       1|1:31.810|       91810|\n",
      "|   841|      20| 19|       1|1:31.018|       91018|\n",
      "|   841|      20| 20|       1|1:31.055|       91055|\n",
      "+------+--------+---+--------+--------+------------+\n",
      "only showing top 20 rows\n",
      "\n"
     ]
    }
   ],
   "source": [
    "lap_time_df.show()"
   ]
  },
  {
   "cell_type": "code",
   "execution_count": 8,
   "id": "482542ee",
   "metadata": {},
   "outputs": [
    {
     "data": {
      "text/plain": [
       "490904"
      ]
     },
     "execution_count": 8,
     "metadata": {},
     "output_type": "execute_result"
    }
   ],
   "source": [
    "lap_time_df.count()"
   ]
  },
  {
   "cell_type": "markdown",
   "id": "daee85dd",
   "metadata": {},
   "source": [
    "### Rename columns and add new columns"
   ]
  },
  {
   "cell_type": "code",
   "execution_count": 9,
   "id": "9cf44e2c",
   "metadata": {},
   "outputs": [],
   "source": [
    "from pyspark.sql.functions import col, current_timestamp"
   ]
  },
  {
   "cell_type": "code",
   "execution_count": 10,
   "id": "c39656ad",
   "metadata": {},
   "outputs": [],
   "source": [
    "final_df= lap_time_df.withColumnRenamed(\"driverId\",\"driver_id\")\\\n",
    ".withColumnRenamed(\"raceId\",\"race_id\")\\\n",
    ".withColumn(\"ingestion_date\",current_timestamp())"
   ]
  },
  {
   "cell_type": "code",
   "execution_count": 11,
   "id": "d1dc9984",
   "metadata": {},
   "outputs": [
    {
     "name": "stdout",
     "output_type": "stream",
     "text": [
      "+-------+---------+---+--------+--------+------------+--------------------+\n",
      "|race_id|driver_id|lap|position|    time|milliseconds|      ingestion_date|\n",
      "+-------+---------+---+--------+--------+------------+--------------------+\n",
      "|    841|       20|  1|       1|1:38.109|       98109|2022-09-08 12:18:...|\n",
      "|    841|       20|  2|       1|1:33.006|       93006|2022-09-08 12:18:...|\n",
      "|    841|       20|  3|       1|1:32.713|       92713|2022-09-08 12:18:...|\n",
      "|    841|       20|  4|       1|1:32.803|       92803|2022-09-08 12:18:...|\n",
      "|    841|       20|  5|       1|1:32.342|       92342|2022-09-08 12:18:...|\n",
      "|    841|       20|  6|       1|1:32.605|       92605|2022-09-08 12:18:...|\n",
      "|    841|       20|  7|       1|1:32.502|       92502|2022-09-08 12:18:...|\n",
      "|    841|       20|  8|       1|1:32.537|       92537|2022-09-08 12:18:...|\n",
      "|    841|       20|  9|       1|1:33.240|       93240|2022-09-08 12:18:...|\n",
      "|    841|       20| 10|       1|1:32.572|       92572|2022-09-08 12:18:...|\n",
      "|    841|       20| 11|       1|1:32.669|       92669|2022-09-08 12:18:...|\n",
      "|    841|       20| 12|       1|1:32.902|       92902|2022-09-08 12:18:...|\n",
      "|    841|       20| 13|       1|1:33.698|       93698|2022-09-08 12:18:...|\n",
      "|    841|       20| 14|       3|1:52.075|      112075|2022-09-08 12:18:...|\n",
      "|    841|       20| 15|       4|1:38.385|       98385|2022-09-08 12:18:...|\n",
      "|    841|       20| 16|       2|1:31.548|       91548|2022-09-08 12:18:...|\n",
      "|    841|       20| 17|       1|1:30.800|       90800|2022-09-08 12:18:...|\n",
      "|    841|       20| 18|       1|1:31.810|       91810|2022-09-08 12:18:...|\n",
      "|    841|       20| 19|       1|1:31.018|       91018|2022-09-08 12:18:...|\n",
      "|    841|       20| 20|       1|1:31.055|       91055|2022-09-08 12:18:...|\n",
      "+-------+---------+---+--------+--------+------------+--------------------+\n",
      "only showing top 20 rows\n",
      "\n"
     ]
    }
   ],
   "source": [
    "final_df.show()"
   ]
  },
  {
   "cell_type": "markdown",
   "id": "ccfdad36",
   "metadata": {},
   "source": [
    "### Write to output to processedd container in parque format "
   ]
  },
  {
   "cell_type": "code",
   "execution_count": 12,
   "id": "d04c6513",
   "metadata": {},
   "outputs": [],
   "source": [
    "final_df.write.mode(\"overwrite\").parquet('C:/Users/ACER/Documents/Burgo Juan/Udemi - Azure Databricks/lap_time_parquet')"
   ]
  },
  {
   "cell_type": "code",
   "execution_count": 13,
   "id": "5758fa4f",
   "metadata": {},
   "outputs": [
    {
     "name": "stdout",
     "output_type": "stream",
     "text": [
      "+-------+---------+---+--------+--------+------------+--------------------+\n",
      "|race_id|driver_id|lap|position|    time|milliseconds|      ingestion_date|\n",
      "+-------+---------+---+--------+--------+------------+--------------------+\n",
      "|     67|       14| 26|      13|1:25.802|       85802|2022-09-08 12:20:...|\n",
      "|     67|       14| 27|      13|1:25.338|       85338|2022-09-08 12:20:...|\n",
      "|     67|       14| 28|      13|1:25.395|       85395|2022-09-08 12:20:...|\n",
      "|     67|       14| 29|      12|1:26.191|       86191|2022-09-08 12:20:...|\n",
      "|     67|       14| 30|      11|1:25.439|       85439|2022-09-08 12:20:...|\n",
      "|     67|       14| 31|      10|1:25.375|       85375|2022-09-08 12:20:...|\n",
      "|     67|       14| 32|      12|1:28.219|       88219|2022-09-08 12:20:...|\n",
      "|     67|       14| 33|      13|1:49.156|      109156|2022-09-08 12:20:...|\n",
      "|     67|       14| 34|      13|1:25.128|       85128|2022-09-08 12:20:...|\n",
      "|     67|       14| 35|      13|1:25.351|       85351|2022-09-08 12:20:...|\n",
      "|     67|       14| 36|      13|1:26.417|       86417|2022-09-08 12:20:...|\n",
      "|     67|       14| 37|      13|1:25.519|       85519|2022-09-08 12:20:...|\n",
      "|     67|       14| 38|      13|1:26.385|       86385|2022-09-08 12:20:...|\n",
      "|     67|       14| 39|      13|1:25.299|       85299|2022-09-08 12:20:...|\n",
      "|     67|       14| 40|      13|1:25.266|       85266|2022-09-08 12:20:...|\n",
      "|     67|       14| 41|      13|1:25.232|       85232|2022-09-08 12:20:...|\n",
      "|     67|       14| 42|      13|1:25.392|       85392|2022-09-08 12:20:...|\n",
      "|     67|       14| 43|      13|1:26.130|       86130|2022-09-08 12:20:...|\n",
      "|     67|       14| 44|      12|1:25.576|       85576|2022-09-08 12:20:...|\n",
      "|     67|       14| 45|      12|1:26.304|       86304|2022-09-08 12:20:...|\n",
      "+-------+---------+---+--------+--------+------------+--------------------+\n",
      "only showing top 20 rows\n",
      "\n"
     ]
    }
   ],
   "source": [
    "spark.read.parquet('C:/Users/ACER/Documents/Burgo Juan/Udemi - Azure Databricks/lap_time_parquet').show()"
   ]
  },
  {
   "cell_type": "code",
   "execution_count": null,
   "id": "716daf9a",
   "metadata": {},
   "outputs": [],
   "source": []
  }
 ],
 "metadata": {
  "kernelspec": {
   "display_name": "Python 3",
   "language": "python",
   "name": "python3"
  },
  "language_info": {
   "codemirror_mode": {
    "name": "ipython",
    "version": 3
   },
   "file_extension": ".py",
   "mimetype": "text/x-python",
   "name": "python",
   "nbconvert_exporter": "python",
   "pygments_lexer": "ipython3",
   "version": "3.8.8"
  }
 },
 "nbformat": 4,
 "nbformat_minor": 5
}
