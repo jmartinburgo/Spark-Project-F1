{
 "cells": [
  {
   "cell_type": "code",
   "execution_count": 5,
   "id": "5144d1bd",
   "metadata": {},
   "outputs": [],
   "source": [
    "import findspark\n",
    "findspark.init()\n",
    "\n",
    "import pyspark # only run after findspark.init()\n",
    "from pyspark.sql import SparkSession\n",
    "spark = SparkSession.builder.getOrCreate()"
   ]
  },
  {
   "cell_type": "code",
   "execution_count": 6,
   "id": "71f69907",
   "metadata": {},
   "outputs": [],
   "source": [
    "constructors_schema = \"constructorId INT, constructorRef STRING, name STRING, nationality STRING, url STRING\""
   ]
  },
  {
   "cell_type": "code",
   "execution_count": 7,
   "id": "833a6216",
   "metadata": {},
   "outputs": [],
   "source": [
    "constructor_df= spark.read.schema(constructors_schema).json('C:/Users/ACER/Documents/Burgo Juan/Udemi - Azure Databricks/constructors.json')"
   ]
  },
  {
   "cell_type": "code",
   "execution_count": 8,
   "id": "ca47391e",
   "metadata": {},
   "outputs": [
    {
     "name": "stdout",
     "output_type": "stream",
     "text": [
      "+-------------+--------------+-----------+-----------+--------------------+\n",
      "|constructorId|constructorRef|       name|nationality|                 url|\n",
      "+-------------+--------------+-----------+-----------+--------------------+\n",
      "|            1|       mclaren|    McLaren|    British|http://en.wikiped...|\n",
      "|            2|    bmw_sauber| BMW Sauber|     German|http://en.wikiped...|\n",
      "|            3|      williams|   Williams|    British|http://en.wikiped...|\n",
      "|            4|       renault|    Renault|     French|http://en.wikiped...|\n",
      "|            5|    toro_rosso| Toro Rosso|    Italian|http://en.wikiped...|\n",
      "|            6|       ferrari|    Ferrari|    Italian|http://en.wikiped...|\n",
      "|            7|        toyota|     Toyota|   Japanese|http://en.wikiped...|\n",
      "|            8|   super_aguri|Super Aguri|   Japanese|http://en.wikiped...|\n",
      "|            9|      red_bull|   Red Bull|   Austrian|http://en.wikiped...|\n",
      "|           10|   force_india|Force India|     Indian|http://en.wikiped...|\n",
      "|           11|         honda|      Honda|   Japanese|http://en.wikiped...|\n",
      "|           12|        spyker|     Spyker|      Dutch|http://en.wikiped...|\n",
      "|           13|           mf1|        MF1|    Russian|http://en.wikiped...|\n",
      "|           14|    spyker_mf1| Spyker MF1|      Dutch|http://en.wikiped...|\n",
      "|           15|        sauber|     Sauber|      Swiss|http://en.wikiped...|\n",
      "|           16|           bar|        BAR|    British|http://en.wikiped...|\n",
      "|           17|        jordan|     Jordan|      Irish|http://en.wikiped...|\n",
      "|           18|       minardi|    Minardi|    Italian|http://en.wikiped...|\n",
      "|           19|        jaguar|     Jaguar|    British|http://en.wikiped...|\n",
      "|           20|         prost|      Prost|     French|http://en.wikiped...|\n",
      "+-------------+--------------+-----------+-----------+--------------------+\n",
      "only showing top 20 rows\n",
      "\n"
     ]
    }
   ],
   "source": [
    "constructor_df.show()"
   ]
  },
  {
   "cell_type": "code",
   "execution_count": 15,
   "id": "a6c1d497",
   "metadata": {},
   "outputs": [],
   "source": [
    "from pyspark.sql.functions import col"
   ]
  },
  {
   "cell_type": "code",
   "execution_count": 17,
   "id": "3b08a78e",
   "metadata": {},
   "outputs": [
    {
     "name": "stdout",
     "output_type": "stream",
     "text": [
      "+-------------+--------------+-----------+-----------+\n",
      "|constructorId|constructorRef|       name|nationality|\n",
      "+-------------+--------------+-----------+-----------+\n",
      "|            1|       mclaren|    McLaren|    British|\n",
      "|            2|    bmw_sauber| BMW Sauber|     German|\n",
      "|            3|      williams|   Williams|    British|\n",
      "|            4|       renault|    Renault|     French|\n",
      "|            5|    toro_rosso| Toro Rosso|    Italian|\n",
      "|            6|       ferrari|    Ferrari|    Italian|\n",
      "|            7|        toyota|     Toyota|   Japanese|\n",
      "|            8|   super_aguri|Super Aguri|   Japanese|\n",
      "|            9|      red_bull|   Red Bull|   Austrian|\n",
      "|           10|   force_india|Force India|     Indian|\n",
      "|           11|         honda|      Honda|   Japanese|\n",
      "|           12|        spyker|     Spyker|      Dutch|\n",
      "|           13|           mf1|        MF1|    Russian|\n",
      "|           14|    spyker_mf1| Spyker MF1|      Dutch|\n",
      "|           15|        sauber|     Sauber|      Swiss|\n",
      "|           16|           bar|        BAR|    British|\n",
      "|           17|        jordan|     Jordan|      Irish|\n",
      "|           18|       minardi|    Minardi|    Italian|\n",
      "|           19|        jaguar|     Jaguar|    British|\n",
      "|           20|         prost|      Prost|     French|\n",
      "+-------------+--------------+-----------+-----------+\n",
      "only showing top 20 rows\n",
      "\n"
     ]
    }
   ],
   "source": [
    "constructor_dropped_df=constructor_df.drop(col(\"url\"))\n",
    "#Otras formas de hacerlo:\n",
    "#constructor_dropped_df=constructor_df.drop(constructor_df[\"url\"])\n",
    "#constructor_dropped_df=constructor_df.drop(\"url\")\n",
    "constructor_dropped_df.show()"
   ]
  },
  {
   "cell_type": "code",
   "execution_count": 18,
   "id": "69673015",
   "metadata": {},
   "outputs": [],
   "source": [
    "from pyspark.sql.functions import current_timestamp"
   ]
  },
  {
   "cell_type": "code",
   "execution_count": 21,
   "id": "7b34dc94",
   "metadata": {},
   "outputs": [],
   "source": [
    "constructor_final_df= constructor_dropped_df.withColumnRenamed(\"constructorId\",\"constructor_id\").withColumnRenamed(\"constructorRef\",\"constructor_ref\").withColumn(\"ingestion_date\",current_timestamp())"
   ]
  },
  {
   "cell_type": "code",
   "execution_count": 22,
   "id": "a5190b78",
   "metadata": {},
   "outputs": [
    {
     "name": "stdout",
     "output_type": "stream",
     "text": [
      "+--------------+---------------+-----------+-----------+--------------------+\n",
      "|constructor_id|constructor_ref|       name|nationality|      ingestion_date|\n",
      "+--------------+---------------+-----------+-----------+--------------------+\n",
      "|             1|        mclaren|    McLaren|    British|2022-09-06 13:06:...|\n",
      "|             2|     bmw_sauber| BMW Sauber|     German|2022-09-06 13:06:...|\n",
      "|             3|       williams|   Williams|    British|2022-09-06 13:06:...|\n",
      "|             4|        renault|    Renault|     French|2022-09-06 13:06:...|\n",
      "|             5|     toro_rosso| Toro Rosso|    Italian|2022-09-06 13:06:...|\n",
      "|             6|        ferrari|    Ferrari|    Italian|2022-09-06 13:06:...|\n",
      "|             7|         toyota|     Toyota|   Japanese|2022-09-06 13:06:...|\n",
      "|             8|    super_aguri|Super Aguri|   Japanese|2022-09-06 13:06:...|\n",
      "|             9|       red_bull|   Red Bull|   Austrian|2022-09-06 13:06:...|\n",
      "|            10|    force_india|Force India|     Indian|2022-09-06 13:06:...|\n",
      "|            11|          honda|      Honda|   Japanese|2022-09-06 13:06:...|\n",
      "|            12|         spyker|     Spyker|      Dutch|2022-09-06 13:06:...|\n",
      "|            13|            mf1|        MF1|    Russian|2022-09-06 13:06:...|\n",
      "|            14|     spyker_mf1| Spyker MF1|      Dutch|2022-09-06 13:06:...|\n",
      "|            15|         sauber|     Sauber|      Swiss|2022-09-06 13:06:...|\n",
      "|            16|            bar|        BAR|    British|2022-09-06 13:06:...|\n",
      "|            17|         jordan|     Jordan|      Irish|2022-09-06 13:06:...|\n",
      "|            18|        minardi|    Minardi|    Italian|2022-09-06 13:06:...|\n",
      "|            19|         jaguar|     Jaguar|    British|2022-09-06 13:06:...|\n",
      "|            20|          prost|      Prost|     French|2022-09-06 13:06:...|\n",
      "+--------------+---------------+-----------+-----------+--------------------+\n",
      "only showing top 20 rows\n",
      "\n"
     ]
    }
   ],
   "source": [
    "constructor_final_df.show()"
   ]
  },
  {
   "cell_type": "code",
   "execution_count": 23,
   "id": "f3ad81eb",
   "metadata": {},
   "outputs": [],
   "source": [
    "constructor_final_df.write.mode(\"overwrite\").parquet('C:/Users/ACER/Documents/Burgo Juan/Udemi - Azure Databricks/constructors')"
   ]
  },
  {
   "cell_type": "code",
   "execution_count": 24,
   "id": "4aaa9646",
   "metadata": {},
   "outputs": [],
   "source": [
    "df=spark.read.parquet('C:/Users/ACER/Documents/Burgo Juan/Udemi - Azure Databricks/constructors')"
   ]
  },
  {
   "cell_type": "code",
   "execution_count": 25,
   "id": "f35d3ea9",
   "metadata": {},
   "outputs": [
    {
     "name": "stdout",
     "output_type": "stream",
     "text": [
      "+--------------+---------------+-----------+-----------+--------------------+\n",
      "|constructor_id|constructor_ref|       name|nationality|      ingestion_date|\n",
      "+--------------+---------------+-----------+-----------+--------------------+\n",
      "|             1|        mclaren|    McLaren|    British|2022-09-06 13:09:...|\n",
      "|             2|     bmw_sauber| BMW Sauber|     German|2022-09-06 13:09:...|\n",
      "|             3|       williams|   Williams|    British|2022-09-06 13:09:...|\n",
      "|             4|        renault|    Renault|     French|2022-09-06 13:09:...|\n",
      "|             5|     toro_rosso| Toro Rosso|    Italian|2022-09-06 13:09:...|\n",
      "|             6|        ferrari|    Ferrari|    Italian|2022-09-06 13:09:...|\n",
      "|             7|         toyota|     Toyota|   Japanese|2022-09-06 13:09:...|\n",
      "|             8|    super_aguri|Super Aguri|   Japanese|2022-09-06 13:09:...|\n",
      "|             9|       red_bull|   Red Bull|   Austrian|2022-09-06 13:09:...|\n",
      "|            10|    force_india|Force India|     Indian|2022-09-06 13:09:...|\n",
      "|            11|          honda|      Honda|   Japanese|2022-09-06 13:09:...|\n",
      "|            12|         spyker|     Spyker|      Dutch|2022-09-06 13:09:...|\n",
      "|            13|            mf1|        MF1|    Russian|2022-09-06 13:09:...|\n",
      "|            14|     spyker_mf1| Spyker MF1|      Dutch|2022-09-06 13:09:...|\n",
      "|            15|         sauber|     Sauber|      Swiss|2022-09-06 13:09:...|\n",
      "|            16|            bar|        BAR|    British|2022-09-06 13:09:...|\n",
      "|            17|         jordan|     Jordan|      Irish|2022-09-06 13:09:...|\n",
      "|            18|        minardi|    Minardi|    Italian|2022-09-06 13:09:...|\n",
      "|            19|         jaguar|     Jaguar|    British|2022-09-06 13:09:...|\n",
      "|            20|          prost|      Prost|     French|2022-09-06 13:09:...|\n",
      "+--------------+---------------+-----------+-----------+--------------------+\n",
      "only showing top 20 rows\n",
      "\n"
     ]
    }
   ],
   "source": [
    "df.show()"
   ]
  },
  {
   "cell_type": "code",
   "execution_count": null,
   "id": "9a2bfd12",
   "metadata": {},
   "outputs": [],
   "source": []
  }
 ],
 "metadata": {
  "kernelspec": {
   "display_name": "Python 3",
   "language": "python",
   "name": "python3"
  },
  "language_info": {
   "codemirror_mode": {
    "name": "ipython",
    "version": 3
   },
   "file_extension": ".py",
   "mimetype": "text/x-python",
   "name": "python",
   "nbconvert_exporter": "python",
   "pygments_lexer": "ipython3",
   "version": "3.8.8"
  }
 },
 "nbformat": 4,
 "nbformat_minor": 5
}
